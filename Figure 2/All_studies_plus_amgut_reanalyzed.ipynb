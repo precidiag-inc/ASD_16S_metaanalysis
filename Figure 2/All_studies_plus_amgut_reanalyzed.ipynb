{
 "cells": [
  {
   "cell_type": "markdown",
   "metadata": {},
   "source": [
    "## Combined analysis of all studies plus bloom filtered American Gut data"
   ]
  },
  {
   "cell_type": "code",
   "execution_count": 1,
   "metadata": {},
   "outputs": [],
   "source": [
    "# Initializes the notebook with inline display\n",
    "%matplotlib inline\n",
    "\n",
    "from os import mkdir\n",
    "import os\n",
    "import copy\n",
    "import qiime2 as q2\n",
    "from qiime2 import Visualization\n",
    "from os.path import abspath, join as pjoin, exists\n",
    "from shutil import copy2, move\n",
    "from time import strftime, strptime\n",
    "from numpy import nan, isnan, arange\n",
    "from pandas import read_csv, Series, DataFrame\n",
    "from skbio import DistanceMatrix\n",
    "from IPython.display import Image\n",
    "import numpy as np\n",
    "import pandas as pd\n",
    "import matplotlib as mpl\n",
    "import matplotlib.pyplot as plt\n",
    "from pandas import ExcelWriter\n",
    "from pandas import ExcelFile\n",
    "from qiime2 import Metadata\n",
    "from qiime2.plugins import feature_table\n",
    "from qiime2 import Artifact\n",
    "import biom"
   ]
  },
  {
   "cell_type": "code",
   "execution_count": 2,
   "metadata": {},
   "outputs": [],
   "source": [
    "def ttest(df,ttdf1,ttdf2):\n",
    "    from scipy.stats import ttest_ind\n",
    "    ttests=[]\n",
    "    ttdf1 = ttdf1.transpose()\n",
    "    ttdf2 = ttdf2.transpose()\n",
    "    ttests = ttest_ind(ttdf1,ttdf2,equal_var=False,nan_policy='omit')\n",
    "    ttests = ttests.pvalue.transpose()\n",
    "    df['ttest_pvalue']=ttests\n",
    "    \n",
    "def fold(df, sub1, sub2, sub1name, sub2name):\n",
    "    df['%s Mean' % (sub1name)]=sub1.mean(axis=1,skipna=True)\n",
    "    df['%s Mean' % (sub2name)]=sub2.mean(axis=1,skipna=True)\n",
    "    df['Overall_Mean'] = (df['%s Mean' % (sub1name)]+df['%s Mean' % (sub2name)])/2\n",
    "    df['Fold Change(%s/%s)' % (sub1name,sub2name)]=df['%s Mean' % (sub1name)]/df['%s Mean' % (sub2name)]\n",
    "    print(\"Fold Change Column Name = 'Fold Change(%s/%s)'\" %(sub1name,sub2name))\n",
    "    \n",
    "def piscore(df,sub1name,sub2name):\n",
    "    df['Log2(Fold Change)'] = np.log2(df['Fold Change(%s/%s)'% (sub1name,sub2name)])\n",
    "    df['-Log(P-value)'] = -np.log10(df['ttest_pvalue'])\n",
    "    df['%s/%s pi score' % (sub1name,sub2name)] = df['-Log(P-value)']*df['Log2(Fold Change)']\n",
    "    df['Relevance_Score'] = 1/(-np.log10(abs(df['%s/%s pi score'% (sub1name,sub2name)])*df['Overall_Mean']))\n",
    "\n",
    "def TwoCategoryMaster(dfmain,dfsub1,dfsub2,sub1name,sub2name):\n",
    "    ttest(dfmain,dfsub1,dfsub2)\n",
    "    fold(dfmain,dfsub1,dfsub2,sub1name,sub2name)\n",
    "    piscore(dfmain,sub1name,sub2name)"
   ]
  },
  {
   "cell_type": "code",
   "execution_count": 3,
   "metadata": {},
   "outputs": [],
   "source": [
    "def PlotByCategory(df,lists,Taxa_col,metadata,category,display_number,save_descrip,human=\"True\",top_taxa=True,Others=[],top_list=[]):\n",
    "    \"\"\"\n",
    "    This function allows you to average the abundance of a category by the levels within that category\n",
    "    and plot stacked barplots of the relative abundance of the x most abundant groups within \n",
    "    each level. Change top_taxa to False and the function will input previously calculated top category lists.\n",
    "    \n",
    "    Parameters\n",
    "    ----------\n",
    "    df : pd.DataFrame\n",
    "    lists: list\n",
    "    Taxa_col : String\n",
    "    display_number: np.integer\n",
    "    human: String\n",
    "    save_descrip : String\n",
    "    top_taxa: True/False\n",
    "\n",
    "    Returns\n",
    "    -------\n",
    "    pdf visualization\n",
    "    \"\"\"\n",
    "    df_all = df[lists].groupby(df['%s' % Taxa_col]).agg(['sum'])\n",
    "    drop_list=[]\n",
    "    \n",
    "    #Remove some unwanted classifications from top list\n",
    "    if set(df_all.index) & set(['k__','p__','c__','o__','f__','s__','g__','__'])!='':\n",
    "        drop_list=list(set(df_all.index) & set(['k__','p__','c__','o__','f__','s__','g__','__']))\n",
    "        df_all.drop(drop_list,axis=0,inplace=True)\n",
    "        print('Adding uninformative features %s to \"Others\".'%drop_list)\n",
    "    \n",
    "    if top_taxa==True:\n",
    "        #Find the sum per variable\n",
    "        df_all['sum'] = df_all.sum(axis=1)\n",
    "\n",
    "        #Find the most abundantly entry within the variable, group others\n",
    "        top_list = list(df_all.sort_values('sum', ascending=False)[0:display_number-1].index)\n",
    "        Others = list(set(df_all.index) - set(top_list)) + drop_list\n",
    "        top_list.append('Others')\n",
    "    \n",
    "    Others = list(set(df_all.index)&set(Others))\n",
    "    \n",
    "    #A dictionary of dataframes will be needed to store all summed dataframes:\n",
    "    #df_dict = {}\n",
    "\n",
    "    #Initialize the figure\n",
    "    figlength = 2\n",
    "    fig, axes = plt.subplots(nrows=1,ncols=1,figsize=(2,figlength))\n",
    "\n",
    " \n",
    "    dfcategories = df[lists].groupby(df['%s' % Taxa_col]).agg(['sum'])\n",
    "    #Restructure the columns which become multilevel with the sum function                  \n",
    "    dfcategories.columns = dfcategories.columns.droplevel(1)\n",
    "\n",
    "    if human != \"True\":\n",
    "        dfcategories.drop('Homo sapiens (Human)', inplace=True)   \n",
    "        \n",
    "    counts = dfcategories\n",
    "    \n",
    "    #Find averages according to the levels in a category of interest\n",
    "        \n",
    "    #subset metadata to only list with patients of interest\n",
    "    metadata.index = metadata.index.astype('str')\n",
    "    meta2 = metadata.loc[lists]\n",
    "    #Identify the levels within the metadata category\n",
    "    levels_list = list(meta2[category].drop_duplicates().sort_values())\n",
    "    #Add new column for patients regarding the level of the category of interest.\n",
    "    counts.loc['%s' % category] = metadata['%s' % category]\n",
    "\n",
    "    #Create a new column averaging by the levels within the category\n",
    "    col_list = []\n",
    "    \n",
    "    ##NOTE - THIS STEP MAY BE REORDERING LIST SHOULD CHECK\n",
    "    for j in levels_list:\n",
    "        a = counts[lists].T\n",
    "        patients_in = []\n",
    "        patients_in = list(a[a[category] == j].index.astype('str'))\n",
    "        b = counts[patients_in].drop(category)\n",
    "        b = b.astype('float')\n",
    "        counts['Patients_in_%s_%s_Average' % (category, j)] = b[patients_in].mean(axis=1)\n",
    "        col_list.append('Patients_in_%s_%s_Average' % (category, j))\n",
    "\n",
    "\n",
    "\n",
    "    counts.loc['Others'] = counts.loc[Others].sum()\n",
    "    plot_df = counts[col_list]\n",
    "    plot_df = plot_df.loc[top_list]\n",
    "\n",
    "    #Convert to ratio for display\n",
    "    for j in col_list:\n",
    "        plot_df[j] = plot_df[j]/plot_df[j].sum()\n",
    "    \n",
    "    plot_df = plot_df[col_list]\n",
    "    \n",
    "    #Remove index name\n",
    "    #del plot_df.index.name\n",
    "    \n",
    "    #Transpose\n",
    "    plot_df = plot_df.transpose()\n",
    "\n",
    "    plot1 = plot_df.plot(kind='bar', ax=axes, width = 0.8, stacked=True, colormap='tab20', title='')\n",
    "    #plot1.get_xaxis().set_ticklabels([])\n",
    "    plot1.get_legend().remove()\n",
    "    plot1.legend(loc='center left', bbox_to_anchor=(1, 0.5))\n",
    "    fig.savefig('./pdfs/Barplot_of_%s_%s.pdf' %(Taxa_col,save_descrip),bbox_inches=\"tight\")"
   ]
  },
  {
   "cell_type": "code",
   "execution_count": 4,
   "metadata": {},
   "outputs": [],
   "source": [
    "def boxplot_feature(df, meta, feat, col1, col2=\"None\",lim=\"None\"):\n",
    "    \"\"\"\n",
    "    This functions takes a dataframe of metadata and a feature, and produces\n",
    "    a boxplot stratifying by a metadata type.\n",
    "    \n",
    "    Parameters\n",
    "    ----------\n",
    "    df : pd.DataFrame\n",
    "    meta : pd.DataFrame\n",
    "    feat : String\n",
    "    col1 : String\n",
    "    col2 : String\n",
    "\n",
    "    Returns\n",
    "    -------\n",
    "    pdf visualization\n",
    "    \"\"\"\n",
    "    if col2=='None':\n",
    "        meta2 = meta.merge(df[feat],left_index=True,right_index=True)\n",
    "        fig = plt.subplots(figsize=(2,3))\n",
    "        plot1 = sns.swarmplot(x=col1,y=feat,size=1.9, data=meta2)\n",
    "        ax = sns.boxplot(x=col1, y=feat,color='white', linewidth='2',data=meta2,)\n",
    "        rotation = 90 \n",
    "        ax.set_xticklabels(ax.get_xticklabels(), rotation = rotation)\n",
    "        if lim!='None':\n",
    "            plot1.set_ylim(0, lim)\n",
    "        #Make the boxes prettier\n",
    "        for i,box in enumerate(ax.artists):\n",
    "            box.set_edgecolor('black')\n",
    "            box.set_facecolor('white')\n",
    "\n",
    "            #Iterate over whiskers and median lines\n",
    "            for j in range(6*i,6*(i+1)):\n",
    "                 ax.lines[j].set_color('black')\n",
    "\n",
    "        plot1.legend(loc='center left', bbox_to_anchor=(1, 0.5))\n",
    "        plt.savefig('./pdfs/%s_by_%s_Boxplots.pdf' %(feat,col1),bbox_inches=\"tight\")\n",
    "    else:\n",
    "        meta2 = meta.merge(df[feat],left_index=True,right_index=True)\n",
    "        fig = plt.subplots(figsize=(2,3))\n",
    "        #plot1 = sns.swarmplot(x='Diagnosis',y='Lactobacillus',hue='Age_Group',size=7, data=meta2)\n",
    "        ax = sns.boxplot(x=col2, y=feat,hue=col1,data=meta2)\n",
    "        if lim!='None':\n",
    "            ax.set_ylim(0, lim)\n",
    "\n",
    "        ax.legend(loc='center left', bbox_to_anchor=(1, 0.5))\n",
    "        plt.savefig('./pdfs/%s_Boxplots_%s_by_%s.pdf' % (feat,col1,col2),bbox_inches=\"tight\") "
   ]
  },
  {
   "cell_type": "markdown",
   "metadata": {},
   "source": [
    "### Analysis Start"
   ]
  },
  {
   "cell_type": "code",
   "execution_count": 6,
   "metadata": {},
   "outputs": [
    {
     "name": "stdout",
     "output_type": "stream",
     "text": [
      "\u001b[32mSaved FeatureData[Taxonomy] to: taxonomy.qza\u001b[0m\r\n"
     ]
    }
   ],
   "source": [
    "!qiime feature-classifier classify-sklearn \\\n",
    "  --i-classifier gg-13-8-99-nb-classifier.qza \\\n",
    "  --i-reads rep-seqs-all.qza \\\n",
    "  --o-classification taxonomy.qza"
   ]
  },
  {
   "cell_type": "code",
   "execution_count": 7,
   "metadata": {},
   "outputs": [
    {
     "name": "stdout",
     "output_type": "stream",
     "text": [
      "^C\r\n",
      "\r\n",
      "Aborted!\r\n"
     ]
    }
   ],
   "source": [
    "!qiime fragment-insertion sepp \\\n",
    "  --i-representative-sequences rep-seqs-all.qza \\\n",
    "  --i-reference-database sepp-refs-gg-13-8.qza \\\n",
    "  --o-tree insertion-tree.qza \\\n",
    "  --o-placements insertion-placements.qza"
   ]
  },
  {
   "cell_type": "code",
   "execution_count": 88,
   "metadata": {},
   "outputs": [
    {
     "name": "stdout",
     "output_type": "stream",
     "text": [
      "\u001b[32mSaved FeatureTable[Frequency] to: ./all_studies_filt_feature_table.qza\u001b[0m\r\n"
     ]
    }
   ],
   "source": [
    "!qiime feature-table filter-samples \\\n",
    "  --i-table ./all_studies_filt_feature_table.qza \\\n",
    "  --m-metadata-file ./Master_complete_metadata_2.txt \\\n",
    "  --o-filtered-table ./all_studies_filt_feature_table.qza"
   ]
  },
  {
   "cell_type": "code",
   "execution_count": 91,
   "metadata": {},
   "outputs": [
    {
     "name": "stdout",
     "output_type": "stream",
     "text": [
      "\u001b[32mSaved FeatureTable[Frequency] to: all_studies_filt_feature_table.qza\u001b[0m\n",
      "\u001b[32mSaved FeatureTable[Frequency] to: removed_table.qza\u001b[0m\n"
     ]
    }
   ],
   "source": [
    "!qiime fragment-insertion filter-features \\\n",
    "  --i-table all_studies_filt_feature_table.qza \\\n",
    "  --i-tree insertion-tree.qza \\\n",
    "  --o-filtered-table all_studies_filt_feature_table.qza \\\n",
    "  --o-removed-table removed_table.qza"
   ]
  },
  {
   "cell_type": "code",
   "execution_count": 89,
   "metadata": {},
   "outputs": [
    {
     "name": "stdout",
     "output_type": "stream",
     "text": [
      "\u001b[32mSaved Visualization to: ./all_studies_filt_feature_table.qzv\u001b[0m\r\n"
     ]
    }
   ],
   "source": [
    "!qiime feature-table summarize \\\n",
    "  --i-table ./all_studies_filt_feature_table.qza \\\n",
    "  --o-visualization ./all_studies_filt_feature_table.qzv \\\n",
    "  --m-sample-metadata-file ./Master_complete_metadata_2.txt"
   ]
  },
  {
   "cell_type": "code",
   "execution_count": 171,
   "metadata": {},
   "outputs": [
    {
     "name": "stdout",
     "output_type": "stream",
     "text": [
      "\u001b[32mSaved FeatureTable[Frequency] to: core-metrics-results-16S-2/rarefied_table.qza\u001b[0m\n",
      "\u001b[32mSaved SampleData[AlphaDiversity] to: core-metrics-results-16S-2/faith_pd_vector.qza\u001b[0m\n",
      "\u001b[32mSaved SampleData[AlphaDiversity] to: core-metrics-results-16S-2/observed_features_vector.qza\u001b[0m\n",
      "\u001b[32mSaved SampleData[AlphaDiversity] to: core-metrics-results-16S-2/shannon_vector.qza\u001b[0m\n",
      "\u001b[32mSaved SampleData[AlphaDiversity] to: core-metrics-results-16S-2/evenness_vector.qza\u001b[0m\n",
      "\u001b[32mSaved DistanceMatrix to: core-metrics-results-16S-2/unweighted_unifrac_distance_matrix.qza\u001b[0m\n",
      "\u001b[32mSaved DistanceMatrix to: core-metrics-results-16S-2/weighted_unifrac_distance_matrix.qza\u001b[0m\n",
      "\u001b[32mSaved DistanceMatrix to: core-metrics-results-16S-2/jaccard_distance_matrix.qza\u001b[0m\n",
      "\u001b[32mSaved DistanceMatrix to: core-metrics-results-16S-2/bray_curtis_distance_matrix.qza\u001b[0m\n",
      "\u001b[32mSaved PCoAResults to: core-metrics-results-16S-2/unweighted_unifrac_pcoa_results.qza\u001b[0m\n",
      "\u001b[32mSaved PCoAResults to: core-metrics-results-16S-2/weighted_unifrac_pcoa_results.qza\u001b[0m\n",
      "\u001b[32mSaved PCoAResults to: core-metrics-results-16S-2/jaccard_pcoa_results.qza\u001b[0m\n",
      "\u001b[32mSaved PCoAResults to: core-metrics-results-16S-2/bray_curtis_pcoa_results.qza\u001b[0m\n",
      "\u001b[32mSaved Visualization to: core-metrics-results-16S-2/unweighted_unifrac_emperor.qzv\u001b[0m\n",
      "\u001b[32mSaved Visualization to: core-metrics-results-16S-2/weighted_unifrac_emperor.qzv\u001b[0m\n",
      "\u001b[32mSaved Visualization to: core-metrics-results-16S-2/jaccard_emperor.qzv\u001b[0m\n",
      "\u001b[32mSaved Visualization to: core-metrics-results-16S-2/bray_curtis_emperor.qzv\u001b[0m\n"
     ]
    }
   ],
   "source": [
    "!qiime diversity core-metrics-phylogenetic \\\n",
    "  --i-phylogeny ./insertion-tree.qza \\\n",
    "  --i-table ./sample_insertion_filtered_final_table.qza \\\n",
    "  --p-sampling-depth 6000 \\\n",
    "  --m-metadata-file ./Master_complete_metadata.txt \\\n",
    "  --output-dir core-metrics-results-16S-2"
   ]
  },
  {
   "cell_type": "code",
   "execution_count": 196,
   "metadata": {},
   "outputs": [
    {
     "name": "stdout",
     "output_type": "stream",
     "text": [
      "\u001b[32mSaved Visualization to: alpha-rarefaction.qzv\u001b[0m\r\n"
     ]
    }
   ],
   "source": [
    "!qiime diversity alpha-rarefaction \\\n",
    "  --i-table all_studies_filt_feature_table.qza \\\n",
    "  --i-phylogeny insertion-tree.qza \\\n",
    "  --p-max-depth 276513 \\\n",
    "  --m-metadata-file Master_complete_metadata.txt \\\n",
    "  --o-visualization alpha-rarefaction.qzv"
   ]
  },
  {
   "cell_type": "code",
   "execution_count": 27,
   "metadata": {},
   "outputs": [
    {
     "name": "stdout",
     "output_type": "stream",
     "text": [
      "\u001b[32mSaved Visualization to: ./rarefied_table.qzv\u001b[0m\r\n"
     ]
    }
   ],
   "source": [
    "!qiime feature-table summarize \\\n",
    "  --i-table ./core-metrics-results-16S/rarefied_table.qza \\\n",
    "  --o-visualization ./rarefied_table.qzv \\\n",
    "  --m-sample-metadata-file ./Master_complete_metadata.txt"
   ]
  },
  {
   "cell_type": "code",
   "execution_count": 75,
   "metadata": {
    "collapsed": true
   },
   "outputs": [
    {
     "data": {
      "text/html": [
       "<div><img onload=\"(function(div, url){\n",
       "if (typeof require !== 'undefined') {\n",
       "    var baseURL = require.toUrl('').split('/').slice(0, -2).join('/');\n",
       "} else {\n",
       "    var baseURL = JSON.parse(\n",
       "        document.getElementById('jupyter-config-data').innerHTML\n",
       "    ).baseUrl.slice(0, -1);\n",
       "}\n",
       "url = baseURL + url;\n",
       "fetch(url).then(function(res) {\n",
       "    if (res.status === 404) {\n",
       "        div.innerHTML = 'Install QIIME 2 Jupyter extension with:<br />' +\n",
       "                        '<code>jupyter serverextension enable --py qiime2' +\n",
       "                        ' --sys-prefix</code><br />then restart your server.' +\n",
       "                        '<br /><br />(Interactive output not available on ' +\n",
       "                        'static notebook viewer services like nbviewer.)';\n",
       "    } else if (res.status === 409) {\n",
       "        div.innerHTML = 'Visualization no longer in scope. Re-run this cell' +\n",
       "                        ' to see the visualization.';\n",
       "    } else if (res.ok) {\n",
       "        url = res.url;\n",
       "        div.innerHTML = '<iframe src=\\'' + url + '\\' style=\\'' +\n",
       "                        'width: 100%; height: 700px; border: 0;\\'>' +\n",
       "                        '</iframe><hr />Open in a: <a href=\\'' + url + '\\'' +\n",
       "                        ' target=\\'_blank\\'>new window</a>'\n",
       "    } else {\n",
       "        div.innerHTML = 'Something has gone wrong. Check notebook server for' +\n",
       "                        ' errors.';\n",
       "    }\n",
       "});\n",
       "})(this.parentElement, '/qiime2/redirect?location=/var/folders/st/002yhgd16h9bk28t1thty_jm0000gn/T/qiime2-archive-ehmcpscq')\" src=\"data:image/gif;base64,R0lGODlhAQABAIAAAP///wAAACH5BAEAAAAALAAAAAABAAEAAAICRAEAOw==\" /></div>"
      ],
      "text/plain": [
       "<visualization: Visualization uuid: 989ad514-b2e4-47aa-8123-46d7b6104739>"
      ]
     },
     "execution_count": 75,
     "metadata": {},
     "output_type": "execute_result"
    }
   ],
   "source": [
    "#Min reads/sample is ~0 Rarefy to 6000\n",
    "tableViz = Visualization.load('./all_studies_filt_feature_table.qzv')\n",
    "tableViz"
   ]
  },
  {
   "cell_type": "code",
   "execution_count": 94,
   "metadata": {},
   "outputs": [
    {
     "data": {
      "text/html": [
       "<div><img onload=\"(function(div, url){\n",
       "if (typeof require !== 'undefined') {\n",
       "    var baseURL = require.toUrl('').split('/').slice(0, -2).join('/');\n",
       "} else {\n",
       "    var baseURL = JSON.parse(\n",
       "        document.getElementById('jupyter-config-data').innerHTML\n",
       "    ).baseUrl.slice(0, -1);\n",
       "}\n",
       "url = baseURL + url;\n",
       "fetch(url).then(function(res) {\n",
       "    if (res.status === 404) {\n",
       "        div.innerHTML = 'Install QIIME 2 Jupyter extension with:<br />' +\n",
       "                        '<code>jupyter serverextension enable --py qiime2' +\n",
       "                        ' --sys-prefix</code><br />then restart your server.' +\n",
       "                        '<br /><br />(Interactive output not available on ' +\n",
       "                        'static notebook viewer services like nbviewer.)';\n",
       "    } else if (res.status === 409) {\n",
       "        div.innerHTML = 'Visualization no longer in scope. Re-run this cell' +\n",
       "                        ' to see the visualization.';\n",
       "    } else if (res.ok) {\n",
       "        url = res.url;\n",
       "        div.innerHTML = '<iframe src=\\'' + url + '\\' style=\\'' +\n",
       "                        'width: 100%; height: 700px; border: 0;\\'>' +\n",
       "                        '</iframe><hr />Open in a: <a href=\\'' + url + '\\'' +\n",
       "                        ' target=\\'_blank\\'>new window</a>'\n",
       "    } else {\n",
       "        div.innerHTML = 'Something has gone wrong. Check notebook server for' +\n",
       "                        ' errors.';\n",
       "    }\n",
       "});\n",
       "})(this.parentElement, '/qiime2/redirect?location=/var/folders/st/002yhgd16h9bk28t1thty_jm0000gn/T/qiime2-archive-12vw9q56')\" src=\"data:image/gif;base64,R0lGODlhAQABAIAAAP///wAAACH5BAEAAAAALAAAAAABAAEAAAICRAEAOw==\" /></div>"
      ],
      "text/plain": [
       "<visualization: Visualization uuid: 5d9732c2-4ee9-414e-bc45-e51ccc5c9f87>"
      ]
     },
     "execution_count": 94,
     "metadata": {},
     "output_type": "execute_result"
    }
   ],
   "source": [
    "Viz = Visualization.load('./core-metrics-results-16S-2/unweighted_unifrac_emperor.qzv')\n",
    "Viz"
   ]
  },
  {
   "cell_type": "code",
   "execution_count": 91,
   "metadata": {},
   "outputs": [
    {
     "data": {
      "text/html": [
       "<div><img onload=\"(function(div, url){\n",
       "if (typeof require !== 'undefined') {\n",
       "    var baseURL = require.toUrl('').split('/').slice(0, -2).join('/');\n",
       "} else {\n",
       "    var baseURL = JSON.parse(\n",
       "        document.getElementById('jupyter-config-data').innerHTML\n",
       "    ).baseUrl.slice(0, -1);\n",
       "}\n",
       "url = baseURL + url;\n",
       "fetch(url).then(function(res) {\n",
       "    if (res.status === 404) {\n",
       "        div.innerHTML = 'Install QIIME 2 Jupyter extension with:<br />' +\n",
       "                        '<code>jupyter serverextension enable --py qiime2' +\n",
       "                        ' --sys-prefix</code><br />then restart your server.' +\n",
       "                        '<br /><br />(Interactive output not available on ' +\n",
       "                        'static notebook viewer services like nbviewer.)';\n",
       "    } else if (res.status === 409) {\n",
       "        div.innerHTML = 'Visualization no longer in scope. Re-run this cell' +\n",
       "                        ' to see the visualization.';\n",
       "    } else if (res.ok) {\n",
       "        url = res.url;\n",
       "        div.innerHTML = '<iframe src=\\'' + url + '\\' style=\\'' +\n",
       "                        'width: 100%; height: 700px; border: 0;\\'>' +\n",
       "                        '</iframe><hr />Open in a: <a href=\\'' + url + '\\'' +\n",
       "                        ' target=\\'_blank\\'>new window</a>'\n",
       "    } else {\n",
       "        div.innerHTML = 'Something has gone wrong. Check notebook server for' +\n",
       "                        ' errors.';\n",
       "    }\n",
       "});\n",
       "})(this.parentElement, '/qiime2/redirect?location=/var/folders/st/002yhgd16h9bk28t1thty_jm0000gn/T/qiime2-archive-nnbincer')\" src=\"data:image/gif;base64,R0lGODlhAQABAIAAAP///wAAACH5BAEAAAAALAAAAAABAAEAAAICRAEAOw==\" /></div>"
      ],
      "text/plain": [
       "<visualization: Visualization uuid: 2df21074-cb13-4123-960a-7e3198d4e6c3>"
      ]
     },
     "execution_count": 91,
     "metadata": {},
     "output_type": "execute_result"
    }
   ],
   "source": [
    "Viz = Visualization.load('./core-metrics-results-16S/weighted_unifrac_emperor.qzv')\n",
    "Viz"
   ]
  },
  {
   "cell_type": "code",
   "execution_count": 62,
   "metadata": {},
   "outputs": [
    {
     "name": "stdout",
     "output_type": "stream",
     "text": [
      "\u001b[32mSaved Visualization to: ./core-metrics-results-16S/Status_permanova_weighted_Study/visualization.qzv\u001b[0m\r\n"
     ]
    }
   ],
   "source": [
    "!qiime diversity beta-group-significance \\\n",
    "--i-distance-matrix ./core-metrics-results-16S/weighted_unifrac_distance_matrix.qza \\\n",
    "--m-metadata-file ./Master_complete_metadata.txt \\\n",
    "--m-metadata-column 'Study' \\\n",
    "--output-dir ./core-metrics-results-16S/Status_permanova_weighted_Study"
   ]
  },
  {
   "cell_type": "code",
   "execution_count": 60,
   "metadata": {},
   "outputs": [
    {
     "name": "stdout",
     "output_type": "stream",
     "text": [
      "\u001b[32mSaved Visualization to: ./core-metrics-results-16S/Status_permanova_unweighted_Study/visualization.qzv\u001b[0m\r\n"
     ]
    }
   ],
   "source": [
    "!qiime diversity beta-group-significance \\\n",
    "--i-distance-matrix ./core-metrics-results-16S/unweighted_unifrac_distance_matrix.qza \\\n",
    "--m-metadata-file ./Master_complete_metadata.txt \\\n",
    "--m-metadata-column 'Study' \\\n",
    "--output-dir ./core-metrics-results-16S/Status_permanova_unweighted_Study"
   ]
  },
  {
   "cell_type": "code",
   "execution_count": 67,
   "metadata": {
    "collapsed": true
   },
   "outputs": [
    {
     "data": {
      "text/html": [
       "<div><img onload=\"(function(div, url){\n",
       "if (typeof require !== 'undefined') {\n",
       "    var baseURL = require.toUrl('').split('/').slice(0, -2).join('/');\n",
       "} else {\n",
       "    var baseURL = JSON.parse(\n",
       "        document.getElementById('jupyter-config-data').innerHTML\n",
       "    ).baseUrl.slice(0, -1);\n",
       "}\n",
       "url = baseURL + url;\n",
       "fetch(url).then(function(res) {\n",
       "    if (res.status === 404) {\n",
       "        div.innerHTML = 'Install QIIME 2 Jupyter extension with:<br />' +\n",
       "                        '<code>jupyter serverextension enable --py qiime2' +\n",
       "                        ' --sys-prefix</code><br />then restart your server.' +\n",
       "                        '<br /><br />(Interactive output not available on ' +\n",
       "                        'static notebook viewer services like nbviewer.)';\n",
       "    } else if (res.status === 409) {\n",
       "        div.innerHTML = 'Visualization no longer in scope. Re-run this cell' +\n",
       "                        ' to see the visualization.';\n",
       "    } else if (res.ok) {\n",
       "        url = res.url;\n",
       "        div.innerHTML = '<iframe src=\\'' + url + '\\' style=\\'' +\n",
       "                        'width: 100%; height: 700px; border: 0;\\'>' +\n",
       "                        '</iframe><hr />Open in a: <a href=\\'' + url + '\\'' +\n",
       "                        ' target=\\'_blank\\'>new window</a>'\n",
       "    } else {\n",
       "        div.innerHTML = 'Something has gone wrong. Check notebook server for' +\n",
       "                        ' errors.';\n",
       "    }\n",
       "});\n",
       "})(this.parentElement, '/qiime2/redirect?location=/var/folders/st/002yhgd16h9bk28t1thty_jm0000gn/T/qiime2-archive-7y2jgldt')\" src=\"data:image/gif;base64,R0lGODlhAQABAIAAAP///wAAACH5BAEAAAAALAAAAAABAAEAAAICRAEAOw==\" /></div>"
      ],
      "text/plain": [
       "<visualization: Visualization uuid: 14f18a5f-e4bf-4684-917e-271e64c68d43>"
      ]
     },
     "execution_count": 67,
     "metadata": {},
     "output_type": "execute_result"
    }
   ],
   "source": [
    "Viz = Visualization.load('./core-metrics-results-16S/Status_permanova_weighted_Study/visualization.qzv')\n",
    "Viz"
   ]
  },
  {
   "cell_type": "code",
   "execution_count": 92,
   "metadata": {},
   "outputs": [
    {
     "data": {
      "text/html": [
       "<div><img onload=\"(function(div, url){\n",
       "if (typeof require !== 'undefined') {\n",
       "    var baseURL = require.toUrl('').split('/').slice(0, -2).join('/');\n",
       "} else {\n",
       "    var baseURL = JSON.parse(\n",
       "        document.getElementById('jupyter-config-data').innerHTML\n",
       "    ).baseUrl.slice(0, -1);\n",
       "}\n",
       "url = baseURL + url;\n",
       "fetch(url).then(function(res) {\n",
       "    if (res.status === 404) {\n",
       "        div.innerHTML = 'Install QIIME 2 Jupyter extension with:<br />' +\n",
       "                        '<code>jupyter serverextension enable --py qiime2' +\n",
       "                        ' --sys-prefix</code><br />then restart your server.' +\n",
       "                        '<br /><br />(Interactive output not available on ' +\n",
       "                        'static notebook viewer services like nbviewer.)';\n",
       "    } else if (res.status === 409) {\n",
       "        div.innerHTML = 'Visualization no longer in scope. Re-run this cell' +\n",
       "                        ' to see the visualization.';\n",
       "    } else if (res.ok) {\n",
       "        url = res.url;\n",
       "        div.innerHTML = '<iframe src=\\'' + url + '\\' style=\\'' +\n",
       "                        'width: 100%; height: 700px; border: 0;\\'>' +\n",
       "                        '</iframe><hr />Open in a: <a href=\\'' + url + '\\'' +\n",
       "                        ' target=\\'_blank\\'>new window</a>'\n",
       "    } else {\n",
       "        div.innerHTML = 'Something has gone wrong. Check notebook server for' +\n",
       "                        ' errors.';\n",
       "    }\n",
       "});\n",
       "})(this.parentElement, '/qiime2/redirect?location=/var/folders/st/002yhgd16h9bk28t1thty_jm0000gn/T/qiime2-archive-8qa3poei')\" src=\"data:image/gif;base64,R0lGODlhAQABAIAAAP///wAAACH5BAEAAAAALAAAAAABAAEAAAICRAEAOw==\" /></div>"
      ],
      "text/plain": [
       "<visualization: Visualization uuid: 3497105b-61f0-4093-8850-517bb049569d>"
      ]
     },
     "execution_count": 92,
     "metadata": {},
     "output_type": "execute_result"
    }
   ],
   "source": [
    "Viz = Visualization.load('./core-metrics-results-16S/Status_permanova_unweighted_correct/visualization.qzv')\n",
    "Viz"
   ]
  },
  {
   "cell_type": "code",
   "execution_count": 87,
   "metadata": {},
   "outputs": [
    {
     "name": "stdout",
     "output_type": "stream",
     "text": [
      "\u001b[32mSaved Visualization to: ./core-metrics-results-16S/Status_permanova_weighted_status/visualization.qzv\u001b[0m\r\n"
     ]
    }
   ],
   "source": [
    "!qiime diversity beta-group-significance \\\n",
    "--i-distance-matrix ./core-metrics-results-16S/weighted_unifrac_distance_matrix.qza \\\n",
    "--m-metadata-file ./Master_complete_metadata.txt \\\n",
    "--m-metadata-column 'Status' \\\n",
    "--output-dir ./core-metrics-results-16S/Status_permanova_weighted_status"
   ]
  },
  {
   "cell_type": "code",
   "execution_count": 88,
   "metadata": {},
   "outputs": [
    {
     "name": "stdout",
     "output_type": "stream",
     "text": [
      "\u001b[32mSaved Visualization to: ./core-metrics-results-16S/Status_permanova_unweighted_status/visualization.qzv\u001b[0m\r\n"
     ]
    }
   ],
   "source": [
    "!qiime diversity beta-group-significance \\\n",
    "--i-distance-matrix ./core-metrics-results-16S/unweighted_unifrac_distance_matrix.qza \\\n",
    "--m-metadata-file ./Master_complete_metadata.txt \\\n",
    "--m-metadata-column 'Status' \\\n",
    "--output-dir ./core-metrics-results-16S/Status_permanova_unweighted_status"
   ]
  },
  {
   "cell_type": "code",
   "execution_count": 89,
   "metadata": {},
   "outputs": [
    {
     "data": {
      "text/html": [
       "<div><img onload=\"(function(div, url){\n",
       "if (typeof require !== 'undefined') {\n",
       "    var baseURL = require.toUrl('').split('/').slice(0, -2).join('/');\n",
       "} else {\n",
       "    var baseURL = JSON.parse(\n",
       "        document.getElementById('jupyter-config-data').innerHTML\n",
       "    ).baseUrl.slice(0, -1);\n",
       "}\n",
       "url = baseURL + url;\n",
       "fetch(url).then(function(res) {\n",
       "    if (res.status === 404) {\n",
       "        div.innerHTML = 'Install QIIME 2 Jupyter extension with:<br />' +\n",
       "                        '<code>jupyter serverextension enable --py qiime2' +\n",
       "                        ' --sys-prefix</code><br />then restart your server.' +\n",
       "                        '<br /><br />(Interactive output not available on ' +\n",
       "                        'static notebook viewer services like nbviewer.)';\n",
       "    } else if (res.status === 409) {\n",
       "        div.innerHTML = 'Visualization no longer in scope. Re-run this cell' +\n",
       "                        ' to see the visualization.';\n",
       "    } else if (res.ok) {\n",
       "        url = res.url;\n",
       "        div.innerHTML = '<iframe src=\\'' + url + '\\' style=\\'' +\n",
       "                        'width: 100%; height: 700px; border: 0;\\'>' +\n",
       "                        '</iframe><hr />Open in a: <a href=\\'' + url + '\\'' +\n",
       "                        ' target=\\'_blank\\'>new window</a>'\n",
       "    } else {\n",
       "        div.innerHTML = 'Something has gone wrong. Check notebook server for' +\n",
       "                        ' errors.';\n",
       "    }\n",
       "});\n",
       "})(this.parentElement, '/qiime2/redirect?location=/var/folders/st/002yhgd16h9bk28t1thty_jm0000gn/T/qiime2-archive-mqny99s0')\" src=\"data:image/gif;base64,R0lGODlhAQABAIAAAP///wAAACH5BAEAAAAALAAAAAABAAEAAAICRAEAOw==\" /></div>"
      ],
      "text/plain": [
       "<visualization: Visualization uuid: 65ea04d5-405e-4260-a645-b6bff2eaa208>"
      ]
     },
     "execution_count": 89,
     "metadata": {},
     "output_type": "execute_result"
    }
   ],
   "source": [
    "Viz = Visualization.load('./core-metrics-results-16S/Status_permanova_unweighted_status/visualization.qzv')\n",
    "Viz"
   ]
  },
  {
   "cell_type": "code",
   "execution_count": 90,
   "metadata": {},
   "outputs": [
    {
     "data": {
      "text/html": [
       "<div><img onload=\"(function(div, url){\n",
       "if (typeof require !== 'undefined') {\n",
       "    var baseURL = require.toUrl('').split('/').slice(0, -2).join('/');\n",
       "} else {\n",
       "    var baseURL = JSON.parse(\n",
       "        document.getElementById('jupyter-config-data').innerHTML\n",
       "    ).baseUrl.slice(0, -1);\n",
       "}\n",
       "url = baseURL + url;\n",
       "fetch(url).then(function(res) {\n",
       "    if (res.status === 404) {\n",
       "        div.innerHTML = 'Install QIIME 2 Jupyter extension with:<br />' +\n",
       "                        '<code>jupyter serverextension enable --py qiime2' +\n",
       "                        ' --sys-prefix</code><br />then restart your server.' +\n",
       "                        '<br /><br />(Interactive output not available on ' +\n",
       "                        'static notebook viewer services like nbviewer.)';\n",
       "    } else if (res.status === 409) {\n",
       "        div.innerHTML = 'Visualization no longer in scope. Re-run this cell' +\n",
       "                        ' to see the visualization.';\n",
       "    } else if (res.ok) {\n",
       "        url = res.url;\n",
       "        div.innerHTML = '<iframe src=\\'' + url + '\\' style=\\'' +\n",
       "                        'width: 100%; height: 700px; border: 0;\\'>' +\n",
       "                        '</iframe><hr />Open in a: <a href=\\'' + url + '\\'' +\n",
       "                        ' target=\\'_blank\\'>new window</a>'\n",
       "    } else {\n",
       "        div.innerHTML = 'Something has gone wrong. Check notebook server for' +\n",
       "                        ' errors.';\n",
       "    }\n",
       "});\n",
       "})(this.parentElement, '/qiime2/redirect?location=/var/folders/st/002yhgd16h9bk28t1thty_jm0000gn/T/qiime2-archive-xelw26ny')\" src=\"data:image/gif;base64,R0lGODlhAQABAIAAAP///wAAACH5BAEAAAAALAAAAAABAAEAAAICRAEAOw==\" /></div>"
      ],
      "text/plain": [
       "<visualization: Visualization uuid: ef8e1e59-fe52-43dc-b445-d2614681e144>"
      ]
     },
     "execution_count": 90,
     "metadata": {},
     "output_type": "execute_result"
    }
   ],
   "source": [
    "Viz = Visualization.load('./core-metrics-results-16S/Status_permanova_weighted_status/visualization.qzv')\n",
    "Viz"
   ]
  },
  {
   "cell_type": "code",
   "execution_count": 46,
   "metadata": {},
   "outputs": [
    {
     "name": "stdout",
     "output_type": "stream",
     "text": [
      "\u001b[32mSaved Visualization to: ./core-metrics-results-16S/Adonis_unweighted_status_VR_study_CF_SD_Country_2.qzv\u001b[0m\r\n"
     ]
    }
   ],
   "source": [
    "!qiime diversity adonis \\\n",
    "--i-distance-matrix ./core-metrics-results-16S/unweighted_unifrac_distance_matrix.qza \\\n",
    "--m-metadata-file ./Master_complete_metadata.txt \\\n",
    "--p-formula \"Status*seq_depth_range*Country*Variable_Region*Study*Control_relation\" \\\n",
    "--o-visualization ./core-metrics-results-16S/Adonis_unweighted_status_VR_study_CF_SD_Country_2.qzv"
   ]
  },
  {
   "cell_type": "code",
   "execution_count": 47,
   "metadata": {
    "scrolled": true
   },
   "outputs": [
    {
     "data": {
      "text/html": [
       "<div><img onload=\"(function(div, url){\n",
       "if (typeof require !== 'undefined') {\n",
       "    var baseURL = require.toUrl('').split('/').slice(0, -2).join('/');\n",
       "} else {\n",
       "    var baseURL = JSON.parse(\n",
       "        document.getElementById('jupyter-config-data').innerHTML\n",
       "    ).baseUrl.slice(0, -1);\n",
       "}\n",
       "url = baseURL + url;\n",
       "fetch(url).then(function(res) {\n",
       "    if (res.status === 404) {\n",
       "        div.innerHTML = 'Install QIIME 2 Jupyter extension with:<br />' +\n",
       "                        '<code>jupyter serverextension enable --py qiime2' +\n",
       "                        ' --sys-prefix</code><br />then restart your server.' +\n",
       "                        '<br /><br />(Interactive output not available on ' +\n",
       "                        'static notebook viewer services like nbviewer.)';\n",
       "    } else if (res.status === 409) {\n",
       "        div.innerHTML = 'Visualization no longer in scope. Re-run this cell' +\n",
       "                        ' to see the visualization.';\n",
       "    } else if (res.ok) {\n",
       "        url = res.url;\n",
       "        div.innerHTML = '<iframe src=\\'' + url + '\\' style=\\'' +\n",
       "                        'width: 100%; height: 700px; border: 0;\\'>' +\n",
       "                        '</iframe><hr />Open in a: <a href=\\'' + url + '\\'' +\n",
       "                        ' target=\\'_blank\\'>new window</a>'\n",
       "    } else {\n",
       "        div.innerHTML = 'Something has gone wrong. Check notebook server for' +\n",
       "                        ' errors.';\n",
       "    }\n",
       "});\n",
       "})(this.parentElement, '/qiime2/redirect?location=/var/folders/st/002yhgd16h9bk28t1thty_jm0000gn/T/qiime2-archive-1h675_a1')\" src=\"data:image/gif;base64,R0lGODlhAQABAIAAAP///wAAACH5BAEAAAAALAAAAAABAAEAAAICRAEAOw==\" /></div>"
      ],
      "text/plain": [
       "<visualization: Visualization uuid: e66621b5-7cfd-4616-abcf-1be7d4c9e8c2>"
      ]
     },
     "execution_count": 47,
     "metadata": {},
     "output_type": "execute_result"
    }
   ],
   "source": [
    "Viz = Visualization.load('./core-metrics-results-16S/Adonis_unweighted_status_VR_study_CF_SD_Country_2.qzv')\n",
    "Viz"
   ]
  },
  {
   "cell_type": "code",
   "execution_count": 33,
   "metadata": {},
   "outputs": [
    {
     "name": "stdout",
     "output_type": "stream",
     "text": [
      "\u001b[32mSaved Visualization to: ./core-metrics-results-16S/Status_permanova_unweighted_study_VR_sex_study.qzv\u001b[0m\r\n"
     ]
    }
   ],
   "source": [
    "!qiime diversity adonis \\\n",
    "--i-distance-matrix ./core-metrics-results-16S/unweighted_unifrac_distance_matrix.qza \\\n",
    "--m-metadata-file ./Master_complete_metadata.txt \\\n",
    "--p-formula \"Status*Variable_Region*Study\" \\\n",
    "--o-visualization ./core-metrics-results-16S/Status_permanova_unweighted_study_VR_sex_study.qzv"
   ]
  },
  {
   "cell_type": "code",
   "execution_count": 34,
   "metadata": {
    "collapsed": true
   },
   "outputs": [
    {
     "data": {
      "text/html": [
       "<div><img onload=\"(function(div, url){\n",
       "if (typeof require !== 'undefined') {\n",
       "    var baseURL = require.toUrl('').split('/').slice(0, -2).join('/');\n",
       "} else {\n",
       "    var baseURL = JSON.parse(\n",
       "        document.getElementById('jupyter-config-data').innerHTML\n",
       "    ).baseUrl.slice(0, -1);\n",
       "}\n",
       "url = baseURL + url;\n",
       "fetch(url).then(function(res) {\n",
       "    if (res.status === 404) {\n",
       "        div.innerHTML = 'Install QIIME 2 Jupyter extension with:<br />' +\n",
       "                        '<code>jupyter serverextension enable --py qiime2' +\n",
       "                        ' --sys-prefix</code><br />then restart your server.' +\n",
       "                        '<br /><br />(Interactive output not available on ' +\n",
       "                        'static notebook viewer services like nbviewer.)';\n",
       "    } else if (res.status === 409) {\n",
       "        div.innerHTML = 'Visualization no longer in scope. Re-run this cell' +\n",
       "                        ' to see the visualization.';\n",
       "    } else if (res.ok) {\n",
       "        url = res.url;\n",
       "        div.innerHTML = '<iframe src=\\'' + url + '\\' style=\\'' +\n",
       "                        'width: 100%; height: 700px; border: 0;\\'>' +\n",
       "                        '</iframe><hr />Open in a: <a href=\\'' + url + '\\'' +\n",
       "                        ' target=\\'_blank\\'>new window</a>'\n",
       "    } else {\n",
       "        div.innerHTML = 'Something has gone wrong. Check notebook server for' +\n",
       "                        ' errors.';\n",
       "    }\n",
       "});\n",
       "})(this.parentElement, '/qiime2/redirect?location=/var/folders/st/002yhgd16h9bk28t1thty_jm0000gn/T/qiime2-archive-63w9u_s1')\" src=\"data:image/gif;base64,R0lGODlhAQABAIAAAP///wAAACH5BAEAAAAALAAAAAABAAEAAAICRAEAOw==\" /></div>"
      ],
      "text/plain": [
       "<visualization: Visualization uuid: 716aee3f-afdc-45df-92c1-bc09d479612d>"
      ]
     },
     "execution_count": 34,
     "metadata": {},
     "output_type": "execute_result"
    }
   ],
   "source": [
    "Viz = Visualization.load('././core-metrics-results-16S/Status_permanova_unweighted_study_VR_sex_study.qzv')\n",
    "Viz"
   ]
  },
  {
   "cell_type": "code",
   "execution_count": 40,
   "metadata": {
    "collapsed": true
   },
   "outputs": [
    {
     "name": "stdout",
     "output_type": "stream",
     "text": [
      "mkdir: ./: File exists\n",
      "\u001b[31m\u001b[1mThere was a problem importing ./rarefied_to_6000/rep_seqs.fna:\n",
      "\n",
      "  rarefied_to_6000/rep_seqs.fna is not a(n) DNAFASTAFormat file:\n",
      "\n",
      "  Invalid character '0' at position 0 on line 2 (does not match IUPAC characters for a DNA sequence).\u001b[0m\n",
      "\n",
      "Usage: \u001b[34mqiime feature-classifier classify-sklearn\u001b[0m [OPTIONS]\n",
      "\n",
      "  Classify reads by taxon using a fitted classifier.\n",
      "\n",
      "\u001b[1mInputs\u001b[0m:\n",
      "  \u001b[34m\u001b[4m--i-reads\u001b[0m ARTIFACT \u001b[32mFeatureData[Sequence]\u001b[0m\n",
      "                         The feature data to be classified.         \u001b[35m[required]\u001b[0m\n",
      "  \u001b[34m\u001b[4m--i-classifier\u001b[0m ARTIFACT\n",
      "    \u001b[32mTaxonomicClassifier\u001b[0m  The taxonomic classifier for classifying the reads.\n",
      "                                                                    \u001b[35m[required]\u001b[0m\n",
      "\u001b[1mParameters\u001b[0m:\n",
      "  \u001b[34m--p-reads-per-batch\u001b[0m INTEGER\n",
      "    \u001b[32mRange(0, None)\u001b[0m       Number of reads to process in each batch. If \"auto\",\n",
      "                         this parameter is autoscaled to min( number of query\n",
      "                         sequences / \u001b[4mn-jobs\u001b[0m, 20000).              \u001b[35m[default: 0]\u001b[0m\n",
      "  \u001b[34m--p-n-jobs\u001b[0m INTEGER     The maximum number of concurrently worker processes.\n",
      "                         If -1 all CPUs are used. If 1 is given, no parallel\n",
      "                         computing code is used at all, which is useful for\n",
      "                         debugging. For \u001b[4mn-jobs\u001b[0m below -1, (n_cpus + 1 + \u001b[4mn-jobs\u001b[0m)\n",
      "                         are used. Thus for \u001b[4mn-jobs\u001b[0m = -2, all CPUs but one are\n",
      "                         used.                                    \u001b[35m[default: 1]\u001b[0m\n",
      "  \u001b[34m--p-pre-dispatch\u001b[0m TEXT  \"all\" or expression, as in \"3*n_jobs\". The number of\n",
      "                         batches (of tasks) to be pre-dispatched.\n",
      "                                                         \u001b[35m[default: '2*n_jobs']\u001b[0m\n",
      "  \u001b[34m--p-confidence\u001b[0m VALUE \u001b[32mFloat % Range(0, 1, inclusive_end=True) | Str %\u001b[0m\n",
      "    \u001b[32mChoices('disable')\u001b[0m   Confidence threshold for limiting taxonomic depth.\n",
      "                         Set to \"disable\" to disable confidence calculation,\n",
      "                         or 0 to calculate confidence but not apply it to\n",
      "                         limit the taxonomic depth of the assignments.\n",
      "                                                                \u001b[35m[default: 0.7]\u001b[0m\n",
      "  \u001b[34m--p-read-orientation\u001b[0m TEXT \u001b[32mChoices('same', 'reverse-complement', 'auto')\u001b[0m\n",
      "                         Direction of reads with respect to reference\n",
      "                         sequences. same will cause reads to be classified\n",
      "                         unchanged; reverse-complement will cause reads to be\n",
      "                         reversed and complemented prior to classification.\n",
      "                         \"auto\" will autodetect orientation based on the\n",
      "                         confidence estimates for the first 100 reads.\n",
      "                                                             \u001b[35m[default: 'auto']\u001b[0m\n",
      "\u001b[1mOutputs\u001b[0m:\n",
      "  \u001b[34m\u001b[4m--o-classification\u001b[0m ARTIFACT \u001b[32mFeatureData[Taxonomy]\u001b[0m\n",
      "                                                                    \u001b[35m[required]\u001b[0m\n",
      "\u001b[1mMiscellaneous\u001b[0m:\n",
      "  \u001b[34m--output-dir\u001b[0m PATH      Output unspecified results to a directory\n",
      "  \u001b[34m--verbose\u001b[0m / \u001b[34m--quiet\u001b[0m    Display verbose output to stdout and/or stderr\n",
      "                         during execution of this action. Or silence output if\n",
      "                         execution is successful (silence is golden).\n",
      "  \u001b[34m--examples\u001b[0m             Show usage examples and exit.\n",
      "  \u001b[34m--citations\u001b[0m            Show citations and exit.\n",
      "  \u001b[34m--help\u001b[0m                 Show this message and exit.\n",
      "\n",
      "\u001b[33m                    There was a problem with the command:                     \u001b[0m\n",
      "\u001b[31m\u001b[1m (1/1) Invalid value for '--i-reads': './all.seqs.qza' is not a valid filepath\u001b[0m\n",
      "\u001b[32mExported ./taxonomy.qza as TSVTaxonomyDirectoryFormat to directory ./\u001b[0m\n",
      "'./Taxa_table_Species_collapsed.txt' successfully saved.\n"
     ]
    }
   ],
   "source": [
    "cb.generate_collapsed_table(Path='./',Biom_Table='./rarefied_to_6000/feature-table.biom',\n",
    "                         metadata='./Master_complete_metadata.txt',Seqs='./rarefied_to_6000/rep_seqs.fna',\n",
    "                         md=False,level='Species')"
   ]
  },
  {
   "cell_type": "code",
   "execution_count": 43,
   "metadata": {},
   "outputs": [
    {
     "name": "stdout",
     "output_type": "stream",
     "text": [
      "Skipping preparation of taxonomy\n",
      "'./Taxa_table_Genus_collapsed.txt' successfully saved.\n"
     ]
    }
   ],
   "source": [
    "cb.generate_collapsed_table(Path='./',Biom_Table='./rarefied_to_6000/feature-table.biom',\n",
    "                         metadata='./Master_complete_metadata.txt',Seqs='./rarefied_to_6000/rep_seqs.fna',\n",
    "                         md=False,level='Genus',skip_prep=True)"
   ]
  },
  {
   "cell_type": "code",
   "execution_count": 44,
   "metadata": {},
   "outputs": [
    {
     "name": "stdout",
     "output_type": "stream",
     "text": [
      "Skipping preparation of taxonomy\n",
      "'./Taxa_table_Phyla_collapsed.txt' successfully saved.\n"
     ]
    }
   ],
   "source": [
    "cb.generate_collapsed_table(Path='./',Biom_Table='./rarefied_to_6000/feature-table.biom',\n",
    "                         metadata='./Master_complete_metadata.txt',Seqs='./rarefied_to_6000/rep_seqs.fna',\n",
    "                         md=False,level='Phyla',skip_prep=True)"
   ]
  },
  {
   "cell_type": "code",
   "execution_count": 50,
   "metadata": {},
   "outputs": [
    {
     "name": "stdout",
     "output_type": "stream",
     "text": [
      "Skipping preparation of taxonomy\n",
      "'./Taxa_table_Class_collapsed.txt' successfully saved.\n"
     ]
    }
   ],
   "source": [
    "cb.generate_collapsed_table(Path='./',Biom_Table='./rarefied_to_6000/feature-table.biom',\n",
    "                         metadata='./Master_complete_metadata.txt',Seqs='./rarefied_to_6000/rep_seqs.fna',\n",
    "                         md=False,level='Class',skip_prep=True)"
   ]
  },
  {
   "cell_type": "code",
   "execution_count": 48,
   "metadata": {},
   "outputs": [
    {
     "name": "stdout",
     "output_type": "stream",
     "text": [
      "Skipping preparation of taxonomy\n",
      "'./Taxa_table_Order_collapsed.txt' successfully saved.\n"
     ]
    }
   ],
   "source": [
    "cb.generate_collapsed_table(Path='./',Biom_Table='./rarefied_to_6000/feature-table.biom',\n",
    "                         metadata='./Master_complete_metadata.txt',Seqs='./rarefied_to_6000/rep_seqs.fna',\n",
    "                         md=False,level='Order',skip_prep=True)"
   ]
  },
  {
   "cell_type": "code",
   "execution_count": 49,
   "metadata": {},
   "outputs": [
    {
     "name": "stdout",
     "output_type": "stream",
     "text": [
      "Skipping preparation of taxonomy\n",
      "'./Taxa_table_None_collapsed.txt' successfully saved.\n"
     ]
    }
   ],
   "source": [
    "cb.generate_collapsed_table(Path='./',Biom_Table='./rarefied_to_6000/feature-table.biom',\n",
    "                         metadata='./Master_complete_metadata.txt',Seqs='./rarefied_to_6000/rep_seqs.fna',\n",
    "                         md=False,level=None,skip_prep=True)"
   ]
  },
  {
   "cell_type": "code",
   "execution_count": 50,
   "metadata": {},
   "outputs": [],
   "source": [
    "meta = pd.read_csv('./Master_complete_metadata.txt',sep='\\t',index_col=0) "
   ]
  },
  {
   "cell_type": "code",
   "execution_count": 51,
   "metadata": {},
   "outputs": [],
   "source": [
    "meta[\"Variable_Region\"].replace({\"V3-V4\": \"V3V4\"}, inplace=True)"
   ]
  },
  {
   "cell_type": "code",
   "execution_count": 53,
   "metadata": {},
   "outputs": [
    {
     "name": "stdout",
     "output_type": "stream",
     "text": [
      "Fold Change Column Name = 'Fold Change(ASD/Control)'\n",
      "./All_studies_FirmicutesToBacteroidetes_ratio_stats.csv saved\n",
      "./All_studies_ProteobacteriaToBacteroidetes_ratio_stats.csv saved\n",
      "./Phyla_table_ASDvControl_pvalues.csv saved\n",
      "Fold Change Column Name = 'Fold Change(ASD/Control)'\n",
      "./Class_table_ASDvControl_pvalues.csv saved\n",
      "Fold Change Column Name = 'Fold Change(ASD/Control)'\n",
      "./Order_table_ASDvControl_pvalues.csv saved\n",
      "Fold Change Column Name = 'Fold Change(ASD/Control)'\n",
      "./All_studies_PrevotellaToBacteroides_ratio_stats.csv saved\n",
      "./Genus_table_ASDvControl_pvalues.csv saved\n",
      "Fold Change Column Name = 'Fold Change(ASD/Control)'\n",
      "./Species_table_ASDvControl_pvalues.csv saved\n",
      "Fold Change Column Name = 'Fold Change(ASD/Control)'\n",
      "./None_table_ASDvControl_pvalues.csv saved\n"
     ]
    }
   ],
   "source": [
    "meta = pd.read_csv('./Master_complete_metadata.txt',sep='\\t',index_col=0)\n",
    "ASD_ids = list(meta[meta['Status']=='ASD'].index)\n",
    "Control_ids = list(meta[meta['Status']=='Control'].index)\n",
    "\n",
    "levels = ['Phyla','Class','Order','Genus','Species','None']\n",
    "\n",
    "\n",
    "for i in levels:\n",
    "    df = pd.read_csv('./Taxa_table_%s_collapsed.txt'%i,sep='\\t',index_col=0)   \n",
    "    \n",
    "    df = df.T\n",
    "    \n",
    "    for j in df.columns:\n",
    "        df[j]=df[j]/df[j].sum()\n",
    "    \n",
    "    df = df.T\n",
    "\n",
    "    if i == 'Phyla':\n",
    "        df['Firmicutes/Bacteroidetes'] = df[' p__Firmicutes']/df[' p__Bacteroidetes']       \n",
    "    if i == 'Genus':\n",
    "        df['Prevotella/Bacteroides'] = df[' g__Prevotella']/df[' g__Bacteroides']\n",
    "    if i == 'Phyla':\n",
    "        df['Proteobacteria/Bacteroidetes'] = df[' p__Proteobacteria']/df[' p__Bacteroidetes']\n",
    "        \n",
    "    df = df.T\n",
    "\n",
    "    ASD_ids = list(set(ASD_ids)&set(df.columns))\n",
    "    Control_ids = list(set(Control_ids)&set(df.columns))\n",
    "    ASD = df[ASD_ids]\n",
    "    Control = df[Control_ids]\n",
    "        \n",
    "    TwoCategoryMaster(dfmain=df,dfsub1=ASD,\n",
    "                      dfsub2=Control,sub1name='ASD',sub2name='Control')\n",
    "    \n",
    "    \n",
    "    ##Record Firmicutes/Bacteroidetes ratios\n",
    "    if i == 'Phyla':\n",
    "        FB_ratio = df.loc['Firmicutes/Bacteroidetes']\n",
    "        indices=['Fold Change(ASD/Control)','ttest_pvalue','ASD Mean','Control Mean']\n",
    "        metrics = FB_ratio.loc[indices]\n",
    "        metrics.to_csv('./All_studies_FB_ratio_stats.csv')\n",
    "        print('./All_studies_FirmicutesToBacteroidetes_ratio_stats.csv saved') \n",
    "    \n",
    "    ##Record Prevotella/Bacteroides ratios\n",
    "    if i == 'Genus':\n",
    "        PB_ratio = df.loc['Prevotella/Bacteroides']\n",
    "        indices=['Fold Change(ASD/Control)','ttest_pvalue']\n",
    "        metrics = PB_ratio.loc[indices]\n",
    "        metrics.to_csv('./All_studies_PB_ratio_stats.csv')\n",
    "        print('./All_studies_PrevotellaToBacteroides_ratio_stats.csv saved') \n",
    "        \n",
    "    ##Record Proteobacteria/Bacteroidetes ratios\n",
    "    if i == 'Phyla':\n",
    "        Proteobacteria_Bacteroidetes_ratio = df.loc['Proteobacteria/Bacteroidetes']\n",
    "        indices=['Fold Change(ASD/Control)','ttest_pvalue']\n",
    "        metrics = Proteobacteria_Bacteroidetes_ratio.loc[indices]\n",
    "        metrics.to_csv('./All_studies_Proteobacteria_Bacteroidetes_ratio_stats.csv')\n",
    "        print('./All_studies_ProteobacteriaToBacteroidetes_ratio_stats.csv saved') \n",
    "\n",
    "    \n",
    "    df.to_csv('./%s_table_ASDvControl_pvalues.csv'%i)\n",
    "    print('./%s_table_ASDvControl_pvalues.csv saved'%i)"
   ]
  },
  {
   "cell_type": "code",
   "execution_count": 53,
   "metadata": {},
   "outputs": [],
   "source": [
    "df = pd.read_csv('./Taxa_table_None_collapsed.txt',sep='\\t',index_col=0)\n",
    "\n",
    "ASD_ids = list(meta[meta['Variable_Region']=='V3V4'].index)\n",
    "Control_ids = list(meta[meta['Variable_Region']=='V4'].index)\n",
    "ASD_ids = list(set(ASD_ids)&set(df.columns))\n",
    "Control_ids = list(set(Control_ids)&set(df.columns))"
   ]
  },
  {
   "cell_type": "code",
   "execution_count": 54,
   "metadata": {},
   "outputs": [],
   "source": [
    "#Prep df2 with columns for each taxonomic level\n",
    "df = df.T\n",
    "samples=list(df.columns)\n",
    "df['Taxa']=df.index\n",
    "s = df['Taxa'].str.split(';', expand = True)\n",
    "s=s.rename(columns={0:'Kingdom',1:'Phyla',2:'Class',3:'Order',4:'Family',5:'Genus',6:'Species'})\n",
    "df2=df.merge(s,left_index=True,right_index=True)"
   ]
  },
  {
   "cell_type": "code",
   "execution_count": 58,
   "metadata": {},
   "outputs": [
    {
     "name": "stdout",
     "output_type": "stream",
     "text": [
      "Adding uninformative features [] to \"Others\".\n"
     ]
    },
    {
     "data": {
      "image/png": "[encoded data removed]",
      "text/plain": [
       "<Figure size 144x144 with 1 Axes>"
      ]
     },
     "metadata": {
      "needs_background": "light"
     },
     "output_type": "display_data"
    }
   ],
   "source": [
    "PlotByCategory(df=df2,lists=samples,Taxa_col='Phyla',\n",
    "               category='Variable_Region',metadata=meta,\n",
    "               display_number=6,save_descrip='Variable_Region',human=\"True\")"
   ]
  },
  {
   "cell_type": "code",
   "execution_count": 60,
   "metadata": {},
   "outputs": [
    {
     "name": "stdout",
     "output_type": "stream",
     "text": [
      "Adding uninformative features [] to \"Others\".\n"
     ]
    },
    {
     "data": {
      "image/png": "[encoded data removed]",
      "text/plain": [
       "<Figure size 144x144 with 1 Axes>"
      ]
     },
     "metadata": {
      "needs_background": "light"
     },
     "output_type": "display_data"
    }
   ],
   "source": [
    "PlotByCategory(df=df2,lists=samples,Taxa_col='Genus',\n",
    "               category='Variable_Region',metadata=meta,\n",
    "               display_number=15,save_descrip='Variable_Region',human=\"True\")"
   ]
  },
  {
   "cell_type": "markdown",
   "metadata": {},
   "source": [
    "## Picrust Analysis"
   ]
  },
  {
   "cell_type": "markdown",
   "metadata": {},
   "source": [
    "##### Picrust2 pathway analysis\n",
    "\n",
    "Switched environment to run Picrust2: https://github.com/picrust/picrust2/wiki/Installation\n",
    "<br><br>\n",
    "<i>Run in terminal on first install:</i>\n",
    "conda create -n picrust2 -c bioconda -c conda-forge picrust2=2.4.1\n",
    "<br>conda activate picrust2\n",
    "\n",
    "<br><br>\n",
    "Run this for generating picrust2 tables:<br>\n",
    "picrust2_pipeline.py -s ./reference-hit.seqs.fa -i ./reference-hit.biom -o picrust2_out_pipeline -p 1"
   ]
  },
  {
   "cell_type": "code",
   "execution_count": 38,
   "metadata": {
    "collapsed": true
   },
   "outputs": [
    {
     "data": {
      "text/html": [
       "<div>\n",
       "<style scoped>\n",
       "    .dataframe tbody tr th:only-of-type {\n",
       "        vertical-align: middle;\n",
       "    }\n",
       "\n",
       "    .dataframe tbody tr th {\n",
       "        vertical-align: top;\n",
       "    }\n",
       "\n",
       "    .dataframe thead th {\n",
       "        text-align: right;\n",
       "    }\n",
       "</style>\n",
       "<table border=\"1\" class=\"dataframe\">\n",
       "  <thead>\n",
       "    <tr style=\"text-align: right;\">\n",
       "      <th></th>\n",
       "      <th>#SampleID</th>\n",
       "      <th>Age</th>\n",
       "      <th>Control_Relation</th>\n",
       "      <th>Control_Type</th>\n",
       "      <th>Control_relation</th>\n",
       "      <th>Country</th>\n",
       "      <th>Sample_size</th>\n",
       "      <th>Sex</th>\n",
       "      <th>Status</th>\n",
       "      <th>Study</th>\n",
       "      <th>Variable_Region</th>\n",
       "      <th>sequencing_depth_min</th>\n",
       "      <th>Age_Range</th>\n",
       "      <th>seq_depth_range</th>\n",
       "    </tr>\n",
       "  </thead>\n",
       "  <tbody>\n",
       "    <tr>\n",
       "      <th>0</th>\n",
       "      <td>56608.10317.000059852</td>\n",
       "      <td>7.0</td>\n",
       "      <td>NaN</td>\n",
       "      <td>Age_Sex_Match</td>\n",
       "      <td>No Relationship</td>\n",
       "      <td>NaN</td>\n",
       "      <td>532.0</td>\n",
       "      <td>male</td>\n",
       "      <td>ASD</td>\n",
       "      <td>American Gut</td>\n",
       "      <td>V4</td>\n",
       "      <td>6000.0</td>\n",
       "      <td>5-7 years</td>\n",
       "      <td>&lt; 6000</td>\n",
       "    </tr>\n",
       "    <tr>\n",
       "      <th>1</th>\n",
       "      <td>56608.10317.000073749</td>\n",
       "      <td>9.0</td>\n",
       "      <td>NaN</td>\n",
       "      <td>Age_Sex_Match</td>\n",
       "      <td>No Relationship</td>\n",
       "      <td>NaN</td>\n",
       "      <td>532.0</td>\n",
       "      <td>male</td>\n",
       "      <td>ASD</td>\n",
       "      <td>American Gut</td>\n",
       "      <td>V4</td>\n",
       "      <td>6000.0</td>\n",
       "      <td>Above 7 years</td>\n",
       "      <td>&lt; 6000</td>\n",
       "    </tr>\n",
       "    <tr>\n",
       "      <th>2</th>\n",
       "      <td>56608.10317.000072136</td>\n",
       "      <td>10.0</td>\n",
       "      <td>NaN</td>\n",
       "      <td>Age_Sex_Match</td>\n",
       "      <td>No Relationship</td>\n",
       "      <td>NaN</td>\n",
       "      <td>532.0</td>\n",
       "      <td>male</td>\n",
       "      <td>ASD</td>\n",
       "      <td>American Gut</td>\n",
       "      <td>V4</td>\n",
       "      <td>6000.0</td>\n",
       "      <td>Above 7 years</td>\n",
       "      <td>&lt; 6000</td>\n",
       "    </tr>\n",
       "    <tr>\n",
       "      <th>3</th>\n",
       "      <td>56608.10317.000073612</td>\n",
       "      <td>18.0</td>\n",
       "      <td>NaN</td>\n",
       "      <td>Age_Sex_Match</td>\n",
       "      <td>No Relationship</td>\n",
       "      <td>NaN</td>\n",
       "      <td>532.0</td>\n",
       "      <td>male</td>\n",
       "      <td>ASD</td>\n",
       "      <td>American Gut</td>\n",
       "      <td>V4</td>\n",
       "      <td>6000.0</td>\n",
       "      <td>Above 7 years</td>\n",
       "      <td>&lt; 6000</td>\n",
       "    </tr>\n",
       "    <tr>\n",
       "      <th>4</th>\n",
       "      <td>56754.10317.000021574</td>\n",
       "      <td>5.0</td>\n",
       "      <td>NaN</td>\n",
       "      <td>Age_Sex_Match</td>\n",
       "      <td>No Relationship</td>\n",
       "      <td>NaN</td>\n",
       "      <td>532.0</td>\n",
       "      <td>male</td>\n",
       "      <td>ASD</td>\n",
       "      <td>American Gut</td>\n",
       "      <td>V4</td>\n",
       "      <td>6000.0</td>\n",
       "      <td>5-7 years</td>\n",
       "      <td>&lt; 6000</td>\n",
       "    </tr>\n",
       "    <tr>\n",
       "      <th>...</th>\n",
       "      <td>...</td>\n",
       "      <td>...</td>\n",
       "      <td>...</td>\n",
       "      <td>...</td>\n",
       "      <td>...</td>\n",
       "      <td>...</td>\n",
       "      <td>...</td>\n",
       "      <td>...</td>\n",
       "      <td>...</td>\n",
       "      <td>...</td>\n",
       "      <td>...</td>\n",
       "      <td>...</td>\n",
       "      <td>...</td>\n",
       "      <td>...</td>\n",
       "    </tr>\n",
       "    <tr>\n",
       "      <th>1735</th>\n",
       "      <td>P53.stool</td>\n",
       "      <td>8.0</td>\n",
       "      <td>NaN</td>\n",
       "      <td>Age_sex_no_relation</td>\n",
       "      <td>No Relationship</td>\n",
       "      <td>Ecuador</td>\n",
       "      <td>50.0</td>\n",
       "      <td>male</td>\n",
       "      <td>Control</td>\n",
       "      <td>Zurita2019</td>\n",
       "      <td>V4</td>\n",
       "      <td>5802.0</td>\n",
       "      <td>Above 7 years</td>\n",
       "      <td>&lt; 6000</td>\n",
       "    </tr>\n",
       "    <tr>\n",
       "      <th>1736</th>\n",
       "      <td>P54.stool</td>\n",
       "      <td>5.0</td>\n",
       "      <td>NaN</td>\n",
       "      <td>Age_sex_no_relation</td>\n",
       "      <td>No Relationship</td>\n",
       "      <td>Ecuador</td>\n",
       "      <td>50.0</td>\n",
       "      <td>female</td>\n",
       "      <td>Control</td>\n",
       "      <td>Zurita2019</td>\n",
       "      <td>V4</td>\n",
       "      <td>5802.0</td>\n",
       "      <td>5-7 years</td>\n",
       "      <td>&lt; 6000</td>\n",
       "    </tr>\n",
       "    <tr>\n",
       "      <th>1737</th>\n",
       "      <td>P55.stool</td>\n",
       "      <td>11.0</td>\n",
       "      <td>NaN</td>\n",
       "      <td>Age_sex_no_relation</td>\n",
       "      <td>No Relationship</td>\n",
       "      <td>Ecuador</td>\n",
       "      <td>50.0</td>\n",
       "      <td>male</td>\n",
       "      <td>Control</td>\n",
       "      <td>Zurita2019</td>\n",
       "      <td>V4</td>\n",
       "      <td>5802.0</td>\n",
       "      <td>Above 7 years</td>\n",
       "      <td>&lt; 6000</td>\n",
       "    </tr>\n",
       "    <tr>\n",
       "      <th>1738</th>\n",
       "      <td>P56.stool</td>\n",
       "      <td>12.0</td>\n",
       "      <td>NaN</td>\n",
       "      <td>Age_sex_no_relation</td>\n",
       "      <td>No Relationship</td>\n",
       "      <td>Ecuador</td>\n",
       "      <td>50.0</td>\n",
       "      <td>male</td>\n",
       "      <td>Control</td>\n",
       "      <td>Zurita2019</td>\n",
       "      <td>V4</td>\n",
       "      <td>5802.0</td>\n",
       "      <td>Above 7 years</td>\n",
       "      <td>&lt; 6000</td>\n",
       "    </tr>\n",
       "    <tr>\n",
       "      <th>1739</th>\n",
       "      <td>P57.stool</td>\n",
       "      <td>10.0</td>\n",
       "      <td>NaN</td>\n",
       "      <td>Age_sex_no_relation</td>\n",
       "      <td>No Relationship</td>\n",
       "      <td>Ecuador</td>\n",
       "      <td>50.0</td>\n",
       "      <td>male</td>\n",
       "      <td>Control</td>\n",
       "      <td>Zurita2019</td>\n",
       "      <td>V4</td>\n",
       "      <td>5802.0</td>\n",
       "      <td>Above 7 years</td>\n",
       "      <td>&lt; 6000</td>\n",
       "    </tr>\n",
       "  </tbody>\n",
       "</table>\n",
       "<p>1492 rows × 14 columns</p>\n",
       "</div>"
      ],
      "text/plain": [
       "                  #SampleID   Age Control_Relation         Control_Type  \\\n",
       "0     56608.10317.000059852   7.0              NaN        Age_Sex_Match   \n",
       "1     56608.10317.000073749   9.0              NaN        Age_Sex_Match   \n",
       "2     56608.10317.000072136  10.0              NaN        Age_Sex_Match   \n",
       "3     56608.10317.000073612  18.0              NaN        Age_Sex_Match   \n",
       "4     56754.10317.000021574   5.0              NaN        Age_Sex_Match   \n",
       "...                     ...   ...              ...                  ...   \n",
       "1735              P53.stool   8.0              NaN  Age_sex_no_relation   \n",
       "1736              P54.stool   5.0              NaN  Age_sex_no_relation   \n",
       "1737              P55.stool  11.0              NaN  Age_sex_no_relation   \n",
       "1738              P56.stool  12.0              NaN  Age_sex_no_relation   \n",
       "1739              P57.stool  10.0              NaN  Age_sex_no_relation   \n",
       "\n",
       "     Control_relation  Country  Sample_size     Sex   Status         Study  \\\n",
       "0     No Relationship      NaN        532.0    male      ASD  American Gut   \n",
       "1     No Relationship      NaN        532.0    male      ASD  American Gut   \n",
       "2     No Relationship      NaN        532.0    male      ASD  American Gut   \n",
       "3     No Relationship      NaN        532.0    male      ASD  American Gut   \n",
       "4     No Relationship      NaN        532.0    male      ASD  American Gut   \n",
       "...               ...      ...          ...     ...      ...           ...   \n",
       "1735  No Relationship  Ecuador         50.0    male  Control    Zurita2019   \n",
       "1736  No Relationship  Ecuador         50.0  female  Control    Zurita2019   \n",
       "1737  No Relationship  Ecuador         50.0    male  Control    Zurita2019   \n",
       "1738  No Relationship  Ecuador         50.0    male  Control    Zurita2019   \n",
       "1739  No Relationship  Ecuador         50.0    male  Control    Zurita2019   \n",
       "\n",
       "     Variable_Region  sequencing_depth_min      Age_Range seq_depth_range  \n",
       "0                 V4                6000.0      5-7 years          < 6000  \n",
       "1                 V4                6000.0  Above 7 years          < 6000  \n",
       "2                 V4                6000.0  Above 7 years          < 6000  \n",
       "3                 V4                6000.0  Above 7 years          < 6000  \n",
       "4                 V4                6000.0      5-7 years          < 6000  \n",
       "...              ...                   ...            ...             ...  \n",
       "1735              V4                5802.0  Above 7 years          < 6000  \n",
       "1736              V4                5802.0      5-7 years          < 6000  \n",
       "1737              V4                5802.0  Above 7 years          < 6000  \n",
       "1738              V4                5802.0  Above 7 years          < 6000  \n",
       "1739              V4                5802.0  Above 7 years          < 6000  \n",
       "\n",
       "[1492 rows x 14 columns]"
      ]
     },
     "execution_count": 38,
     "metadata": {},
     "output_type": "execute_result"
    }
   ],
   "source": [
    "Six_thousand_filtered_metadata = mf[mf['#SampleID'].isin(samples_to_keep)]\n",
    "Six_thousand_filtered_metadata"
   ]
  },
  {
   "cell_type": "code",
   "execution_count": 44,
   "metadata": {},
   "outputs": [],
   "source": [
    "Six_thousand_filtered_metadata.set_index = Six_thousand_filtered_metadata[\"#SampleID\"]"
   ]
  },
  {
   "cell_type": "code",
   "execution_count": 47,
   "metadata": {},
   "outputs": [],
   "source": [
    "Six_thousand_filtered_metadata.to_csv(\"Six_thousand_filtered_metadata.txt\", sep='\\t')"
   ]
  },
  {
   "cell_type": "code",
   "execution_count": 48,
   "metadata": {},
   "outputs": [
    {
     "name": "stdout",
     "output_type": "stream",
     "text": [
      "\u001b[32mSaved FeatureTable[Frequency] to: ./below_6000_filtered/filt-deblur-table.qza\u001b[0m\r\n"
     ]
    }
   ],
   "source": [
    "!qiime feature-table filter-samples \\\n",
    "  --i-table ./All_studies_plut_amgut_feature_table.qza \\\n",
    "  --m-metadata-file ./Six_thousand_filtered_metadata.txt \\\n",
    "  --o-filtered-table ./below_6000_filtered/filt-deblur-table.qza"
   ]
  },
  {
   "cell_type": "code",
   "execution_count": null,
   "metadata": {},
   "outputs": [],
   "source": [
    "!gunzip ./picrust2_out_pipeline/pathways_out/path_abun_unstrat.tsv.gz"
   ]
  },
  {
   "cell_type": "code",
   "execution_count": 108,
   "metadata": {},
   "outputs": [],
   "source": [
    "!gunzip ./picrust2_out_pipeline/pathways_out/path_abun_unstrat_descrip.tsv.gz"
   ]
  },
  {
   "cell_type": "code",
   "execution_count": 303,
   "metadata": {
    "collapsed": true
   },
   "outputs": [
    {
     "data": {
      "text/html": [
       "<div>\n",
       "<style scoped>\n",
       "    .dataframe tbody tr th:only-of-type {\n",
       "        vertical-align: middle;\n",
       "    }\n",
       "\n",
       "    .dataframe tbody tr th {\n",
       "        vertical-align: top;\n",
       "    }\n",
       "\n",
       "    .dataframe thead th {\n",
       "        text-align: right;\n",
       "    }\n",
       "</style>\n",
       "<table border=\"1\" class=\"dataframe\">\n",
       "  <thead>\n",
       "    <tr style=\"text-align: right;\">\n",
       "      <th></th>\n",
       "      <th>SRR12180512</th>\n",
       "      <th>SRR12180606</th>\n",
       "      <th>SRR12180382</th>\n",
       "      <th>SRR12180406</th>\n",
       "      <th>SRR12180491</th>\n",
       "      <th>SRR12180500</th>\n",
       "      <th>SRR12180540</th>\n",
       "      <th>SRR12180556</th>\n",
       "      <th>SRR12180595</th>\n",
       "      <th>SRR12180600</th>\n",
       "      <th>...</th>\n",
       "      <th>103430.10317.000115679</th>\n",
       "      <th>ttest_pvalue</th>\n",
       "      <th>ASD Mean</th>\n",
       "      <th>Control Mean</th>\n",
       "      <th>Overall_Mean</th>\n",
       "      <th>Fold Change(ASD/Control)</th>\n",
       "      <th>Log2(Fold Change)</th>\n",
       "      <th>-Log(P-value)</th>\n",
       "      <th>ASD/Control pi score</th>\n",
       "      <th>Relevance_Score</th>\n",
       "    </tr>\n",
       "    <tr>\n",
       "      <th>description</th>\n",
       "      <th></th>\n",
       "      <th></th>\n",
       "      <th></th>\n",
       "      <th></th>\n",
       "      <th></th>\n",
       "      <th></th>\n",
       "      <th></th>\n",
       "      <th></th>\n",
       "      <th></th>\n",
       "      <th></th>\n",
       "      <th></th>\n",
       "      <th></th>\n",
       "      <th></th>\n",
       "      <th></th>\n",
       "      <th></th>\n",
       "      <th></th>\n",
       "      <th></th>\n",
       "      <th></th>\n",
       "      <th></th>\n",
       "      <th></th>\n",
       "      <th></th>\n",
       "    </tr>\n",
       "  </thead>\n",
       "  <tbody>\n",
       "    <tr>\n",
       "      <th>N10-formyl-tetrahydrofolate biosynthesis</th>\n",
       "      <td>0.007046</td>\n",
       "      <td>0.007059</td>\n",
       "      <td>0.006973</td>\n",
       "      <td>0.006909</td>\n",
       "      <td>6.823891e-03</td>\n",
       "      <td>0.006149</td>\n",
       "      <td>0.007712</td>\n",
       "      <td>0.006129</td>\n",
       "      <td>0.006664</td>\n",
       "      <td>0.006909</td>\n",
       "      <td>...</td>\n",
       "      <td>0.007053</td>\n",
       "      <td>0.507301</td>\n",
       "      <td>0.006839</td>\n",
       "      <td>0.006859</td>\n",
       "      <td>0.006849</td>\n",
       "      <td>0.997119</td>\n",
       "      <td>-0.004162</td>\n",
       "      <td>0.294734</td>\n",
       "      <td>-0.001227</td>\n",
       "      <td>0.197019</td>\n",
       "    </tr>\n",
       "    <tr>\n",
       "      <th>4-hydroxyphenylacetate degradation</th>\n",
       "      <td>0.000017</td>\n",
       "      <td>0.000009</td>\n",
       "      <td>0.000000</td>\n",
       "      <td>0.000003</td>\n",
       "      <td>9.423677e-05</td>\n",
       "      <td>0.000428</td>\n",
       "      <td>0.000185</td>\n",
       "      <td>0.000023</td>\n",
       "      <td>0.000163</td>\n",
       "      <td>0.000031</td>\n",
       "      <td>...</td>\n",
       "      <td>0.000000</td>\n",
       "      <td>0.980877</td>\n",
       "      <td>0.000053</td>\n",
       "      <td>0.000053</td>\n",
       "      <td>0.000053</td>\n",
       "      <td>1.005981</td>\n",
       "      <td>0.008603</td>\n",
       "      <td>0.008385</td>\n",
       "      <td>0.000072</td>\n",
       "      <td>0.118774</td>\n",
       "    </tr>\n",
       "    <tr>\n",
       "      <th>aerobactin biosynthesis</th>\n",
       "      <td>0.000014</td>\n",
       "      <td>0.000007</td>\n",
       "      <td>0.000000</td>\n",
       "      <td>0.000003</td>\n",
       "      <td>8.039061e-05</td>\n",
       "      <td>0.000415</td>\n",
       "      <td>0.000182</td>\n",
       "      <td>0.000011</td>\n",
       "      <td>0.000153</td>\n",
       "      <td>0.000023</td>\n",
       "      <td>...</td>\n",
       "      <td>0.000000</td>\n",
       "      <td>0.281047</td>\n",
       "      <td>0.000028</td>\n",
       "      <td>0.000040</td>\n",
       "      <td>0.000034</td>\n",
       "      <td>0.704290</td>\n",
       "      <td>-0.505759</td>\n",
       "      <td>0.551220</td>\n",
       "      <td>-0.278785</td>\n",
       "      <td>0.199256</td>\n",
       "    </tr>\n",
       "    <tr>\n",
       "      <th>superpathway of chorismate metabolism</th>\n",
       "      <td>0.000089</td>\n",
       "      <td>0.000037</td>\n",
       "      <td>0.000000</td>\n",
       "      <td>0.000089</td>\n",
       "      <td>4.878591e-04</td>\n",
       "      <td>0.001337</td>\n",
       "      <td>0.000806</td>\n",
       "      <td>0.000587</td>\n",
       "      <td>0.000593</td>\n",
       "      <td>0.000155</td>\n",
       "      <td>...</td>\n",
       "      <td>0.000040</td>\n",
       "      <td>0.301561</td>\n",
       "      <td>0.000327</td>\n",
       "      <td>0.000297</td>\n",
       "      <td>0.000312</td>\n",
       "      <td>1.100838</td>\n",
       "      <td>0.138603</td>\n",
       "      <td>0.520625</td>\n",
       "      <td>0.072160</td>\n",
       "      <td>0.215165</td>\n",
       "    </tr>\n",
       "    <tr>\n",
       "      <th>homolactic fermentation</th>\n",
       "      <td>0.007068</td>\n",
       "      <td>0.006572</td>\n",
       "      <td>0.006565</td>\n",
       "      <td>0.005847</td>\n",
       "      <td>6.013951e-03</td>\n",
       "      <td>0.005766</td>\n",
       "      <td>0.003764</td>\n",
       "      <td>0.005744</td>\n",
       "      <td>0.005631</td>\n",
       "      <td>0.007103</td>\n",
       "      <td>...</td>\n",
       "      <td>0.007943</td>\n",
       "      <td>0.290231</td>\n",
       "      <td>0.006266</td>\n",
       "      <td>0.006210</td>\n",
       "      <td>0.006238</td>\n",
       "      <td>1.009080</td>\n",
       "      <td>0.013040</td>\n",
       "      <td>0.537256</td>\n",
       "      <td>0.007006</td>\n",
       "      <td>0.229385</td>\n",
       "    </tr>\n",
       "    <tr>\n",
       "      <th>...</th>\n",
       "      <td>...</td>\n",
       "      <td>...</td>\n",
       "      <td>...</td>\n",
       "      <td>...</td>\n",
       "      <td>...</td>\n",
       "      <td>...</td>\n",
       "      <td>...</td>\n",
       "      <td>...</td>\n",
       "      <td>...</td>\n",
       "      <td>...</td>\n",
       "      <td>...</td>\n",
       "      <td>...</td>\n",
       "      <td>...</td>\n",
       "      <td>...</td>\n",
       "      <td>...</td>\n",
       "      <td>...</td>\n",
       "      <td>...</td>\n",
       "      <td>...</td>\n",
       "      <td>...</td>\n",
       "      <td>...</td>\n",
       "      <td>...</td>\n",
       "    </tr>\n",
       "    <tr>\n",
       "      <th>L-tyrosine degradation I</th>\n",
       "      <td>0.000000</td>\n",
       "      <td>0.000000</td>\n",
       "      <td>0.000000</td>\n",
       "      <td>0.000000</td>\n",
       "      <td>8.058478e-07</td>\n",
       "      <td>0.000000</td>\n",
       "      <td>0.000000</td>\n",
       "      <td>0.000000</td>\n",
       "      <td>0.000000</td>\n",
       "      <td>0.000002</td>\n",
       "      <td>...</td>\n",
       "      <td>0.000000</td>\n",
       "      <td>0.568467</td>\n",
       "      <td>0.000042</td>\n",
       "      <td>0.000053</td>\n",
       "      <td>0.000047</td>\n",
       "      <td>0.798068</td>\n",
       "      <td>-0.325417</td>\n",
       "      <td>0.245294</td>\n",
       "      <td>-0.079823</td>\n",
       "      <td>0.184451</td>\n",
       "    </tr>\n",
       "    <tr>\n",
       "      <th>superpathway of ubiquinol-8 biosynthesis (prokaryotic)</th>\n",
       "      <td>0.000034</td>\n",
       "      <td>0.000019</td>\n",
       "      <td>0.000003</td>\n",
       "      <td>0.000181</td>\n",
       "      <td>2.579758e-04</td>\n",
       "      <td>0.000680</td>\n",
       "      <td>0.000395</td>\n",
       "      <td>0.001035</td>\n",
       "      <td>0.000281</td>\n",
       "      <td>0.000076</td>\n",
       "      <td>...</td>\n",
       "      <td>0.000009</td>\n",
       "      <td>0.412149</td>\n",
       "      <td>0.000345</td>\n",
       "      <td>0.000319</td>\n",
       "      <td>0.000332</td>\n",
       "      <td>1.083158</td>\n",
       "      <td>0.115244</td>\n",
       "      <td>0.384946</td>\n",
       "      <td>0.044363</td>\n",
       "      <td>0.206950</td>\n",
       "    </tr>\n",
       "    <tr>\n",
       "      <th>UDP-N-acetyl-D-glucosamine biosynthesis I</th>\n",
       "      <td>0.005367</td>\n",
       "      <td>0.004399</td>\n",
       "      <td>0.005668</td>\n",
       "      <td>0.005420</td>\n",
       "      <td>3.879390e-03</td>\n",
       "      <td>0.003990</td>\n",
       "      <td>0.002330</td>\n",
       "      <td>0.004591</td>\n",
       "      <td>0.003204</td>\n",
       "      <td>0.004314</td>\n",
       "      <td>...</td>\n",
       "      <td>0.006072</td>\n",
       "      <td>0.893700</td>\n",
       "      <td>0.004484</td>\n",
       "      <td>0.004494</td>\n",
       "      <td>0.004489</td>\n",
       "      <td>0.997802</td>\n",
       "      <td>-0.003174</td>\n",
       "      <td>0.048808</td>\n",
       "      <td>-0.000155</td>\n",
       "      <td>0.162397</td>\n",
       "    </tr>\n",
       "    <tr>\n",
       "      <th>L-valine degradation I</th>\n",
       "      <td>0.000000</td>\n",
       "      <td>0.000000</td>\n",
       "      <td>0.000000</td>\n",
       "      <td>0.000000</td>\n",
       "      <td>0.000000e+00</td>\n",
       "      <td>0.000000</td>\n",
       "      <td>0.000000</td>\n",
       "      <td>0.000000</td>\n",
       "      <td>0.000000</td>\n",
       "      <td>0.000000</td>\n",
       "      <td>...</td>\n",
       "      <td>0.000006</td>\n",
       "      <td>0.383221</td>\n",
       "      <td>0.000007</td>\n",
       "      <td>0.000008</td>\n",
       "      <td>0.000007</td>\n",
       "      <td>0.836125</td>\n",
       "      <td>-0.258209</td>\n",
       "      <td>0.416551</td>\n",
       "      <td>-0.107557</td>\n",
       "      <td>0.163682</td>\n",
       "    </tr>\n",
       "    <tr>\n",
       "      <th>L-valine biosynthesis</th>\n",
       "      <td>0.009678</td>\n",
       "      <td>0.008496</td>\n",
       "      <td>0.009623</td>\n",
       "      <td>0.009181</td>\n",
       "      <td>8.691125e-03</td>\n",
       "      <td>0.007580</td>\n",
       "      <td>0.009206</td>\n",
       "      <td>0.008269</td>\n",
       "      <td>0.007903</td>\n",
       "      <td>0.008918</td>\n",
       "      <td>...</td>\n",
       "      <td>0.009284</td>\n",
       "      <td>0.899139</td>\n",
       "      <td>0.008709</td>\n",
       "      <td>0.008715</td>\n",
       "      <td>0.008712</td>\n",
       "      <td>0.999338</td>\n",
       "      <td>-0.000956</td>\n",
       "      <td>0.046173</td>\n",
       "      <td>-0.000044</td>\n",
       "      <td>0.155883</td>\n",
       "    </tr>\n",
       "  </tbody>\n",
       "</table>\n",
       "<p>420 rows × 1778 columns</p>\n",
       "</div>"
      ],
      "text/plain": [
       "                                                    SRR12180512  SRR12180606  \\\n",
       "description                                                                    \n",
       "N10-formyl-tetrahydrofolate biosynthesis               0.007046     0.007059   \n",
       "4-hydroxyphenylacetate degradation                     0.000017     0.000009   \n",
       "aerobactin biosynthesis                                0.000014     0.000007   \n",
       "superpathway of chorismate metabolism                  0.000089     0.000037   \n",
       "homolactic fermentation                                0.007068     0.006572   \n",
       "...                                                         ...          ...   \n",
       "L-tyrosine degradation I                               0.000000     0.000000   \n",
       "superpathway of ubiquinol-8 biosynthesis (proka...     0.000034     0.000019   \n",
       "UDP-N-acetyl-D-glucosamine biosynthesis I              0.005367     0.004399   \n",
       "L-valine degradation I                                 0.000000     0.000000   \n",
       "L-valine biosynthesis                                  0.009678     0.008496   \n",
       "\n",
       "                                                    SRR12180382  SRR12180406  \\\n",
       "description                                                                    \n",
       "N10-formyl-tetrahydrofolate biosynthesis               0.006973     0.006909   \n",
       "4-hydroxyphenylacetate degradation                     0.000000     0.000003   \n",
       "aerobactin biosynthesis                                0.000000     0.000003   \n",
       "superpathway of chorismate metabolism                  0.000000     0.000089   \n",
       "homolactic fermentation                                0.006565     0.005847   \n",
       "...                                                         ...          ...   \n",
       "L-tyrosine degradation I                               0.000000     0.000000   \n",
       "superpathway of ubiquinol-8 biosynthesis (proka...     0.000003     0.000181   \n",
       "UDP-N-acetyl-D-glucosamine biosynthesis I              0.005668     0.005420   \n",
       "L-valine degradation I                                 0.000000     0.000000   \n",
       "L-valine biosynthesis                                  0.009623     0.009181   \n",
       "\n",
       "                                                     SRR12180491  SRR12180500  \\\n",
       "description                                                                     \n",
       "N10-formyl-tetrahydrofolate biosynthesis            6.823891e-03     0.006149   \n",
       "4-hydroxyphenylacetate degradation                  9.423677e-05     0.000428   \n",
       "aerobactin biosynthesis                             8.039061e-05     0.000415   \n",
       "superpathway of chorismate metabolism               4.878591e-04     0.001337   \n",
       "homolactic fermentation                             6.013951e-03     0.005766   \n",
       "...                                                          ...          ...   \n",
       "L-tyrosine degradation I                            8.058478e-07     0.000000   \n",
       "superpathway of ubiquinol-8 biosynthesis (proka...  2.579758e-04     0.000680   \n",
       "UDP-N-acetyl-D-glucosamine biosynthesis I           3.879390e-03     0.003990   \n",
       "L-valine degradation I                              0.000000e+00     0.000000   \n",
       "L-valine biosynthesis                               8.691125e-03     0.007580   \n",
       "\n",
       "                                                    SRR12180540  SRR12180556  \\\n",
       "description                                                                    \n",
       "N10-formyl-tetrahydrofolate biosynthesis               0.007712     0.006129   \n",
       "4-hydroxyphenylacetate degradation                     0.000185     0.000023   \n",
       "aerobactin biosynthesis                                0.000182     0.000011   \n",
       "superpathway of chorismate metabolism                  0.000806     0.000587   \n",
       "homolactic fermentation                                0.003764     0.005744   \n",
       "...                                                         ...          ...   \n",
       "L-tyrosine degradation I                               0.000000     0.000000   \n",
       "superpathway of ubiquinol-8 biosynthesis (proka...     0.000395     0.001035   \n",
       "UDP-N-acetyl-D-glucosamine biosynthesis I              0.002330     0.004591   \n",
       "L-valine degradation I                                 0.000000     0.000000   \n",
       "L-valine biosynthesis                                  0.009206     0.008269   \n",
       "\n",
       "                                                    SRR12180595  SRR12180600  \\\n",
       "description                                                                    \n",
       "N10-formyl-tetrahydrofolate biosynthesis               0.006664     0.006909   \n",
       "4-hydroxyphenylacetate degradation                     0.000163     0.000031   \n",
       "aerobactin biosynthesis                                0.000153     0.000023   \n",
       "superpathway of chorismate metabolism                  0.000593     0.000155   \n",
       "homolactic fermentation                                0.005631     0.007103   \n",
       "...                                                         ...          ...   \n",
       "L-tyrosine degradation I                               0.000000     0.000002   \n",
       "superpathway of ubiquinol-8 biosynthesis (proka...     0.000281     0.000076   \n",
       "UDP-N-acetyl-D-glucosamine biosynthesis I              0.003204     0.004314   \n",
       "L-valine degradation I                                 0.000000     0.000000   \n",
       "L-valine biosynthesis                                  0.007903     0.008918   \n",
       "\n",
       "                                                    ...  \\\n",
       "description                                         ...   \n",
       "N10-formyl-tetrahydrofolate biosynthesis            ...   \n",
       "4-hydroxyphenylacetate degradation                  ...   \n",
       "aerobactin biosynthesis                             ...   \n",
       "superpathway of chorismate metabolism               ...   \n",
       "homolactic fermentation                             ...   \n",
       "...                                                 ...   \n",
       "L-tyrosine degradation I                            ...   \n",
       "superpathway of ubiquinol-8 biosynthesis (proka...  ...   \n",
       "UDP-N-acetyl-D-glucosamine biosynthesis I           ...   \n",
       "L-valine degradation I                              ...   \n",
       "L-valine biosynthesis                               ...   \n",
       "\n",
       "                                                    103430.10317.000115679  \\\n",
       "description                                                                  \n",
       "N10-formyl-tetrahydrofolate biosynthesis                          0.007053   \n",
       "4-hydroxyphenylacetate degradation                                0.000000   \n",
       "aerobactin biosynthesis                                           0.000000   \n",
       "superpathway of chorismate metabolism                             0.000040   \n",
       "homolactic fermentation                                           0.007943   \n",
       "...                                                                    ...   \n",
       "L-tyrosine degradation I                                          0.000000   \n",
       "superpathway of ubiquinol-8 biosynthesis (proka...                0.000009   \n",
       "UDP-N-acetyl-D-glucosamine biosynthesis I                         0.006072   \n",
       "L-valine degradation I                                            0.000006   \n",
       "L-valine biosynthesis                                             0.009284   \n",
       "\n",
       "                                                    ttest_pvalue  ASD Mean  \\\n",
       "description                                                                  \n",
       "N10-formyl-tetrahydrofolate biosynthesis                0.507301  0.006839   \n",
       "4-hydroxyphenylacetate degradation                      0.980877  0.000053   \n",
       "aerobactin biosynthesis                                 0.281047  0.000028   \n",
       "superpathway of chorismate metabolism                   0.301561  0.000327   \n",
       "homolactic fermentation                                 0.290231  0.006266   \n",
       "...                                                          ...       ...   \n",
       "L-tyrosine degradation I                                0.568467  0.000042   \n",
       "superpathway of ubiquinol-8 biosynthesis (proka...      0.412149  0.000345   \n",
       "UDP-N-acetyl-D-glucosamine biosynthesis I               0.893700  0.004484   \n",
       "L-valine degradation I                                  0.383221  0.000007   \n",
       "L-valine biosynthesis                                   0.899139  0.008709   \n",
       "\n",
       "                                                    Control Mean  \\\n",
       "description                                                        \n",
       "N10-formyl-tetrahydrofolate biosynthesis                0.006859   \n",
       "4-hydroxyphenylacetate degradation                      0.000053   \n",
       "aerobactin biosynthesis                                 0.000040   \n",
       "superpathway of chorismate metabolism                   0.000297   \n",
       "homolactic fermentation                                 0.006210   \n",
       "...                                                          ...   \n",
       "L-tyrosine degradation I                                0.000053   \n",
       "superpathway of ubiquinol-8 biosynthesis (proka...      0.000319   \n",
       "UDP-N-acetyl-D-glucosamine biosynthesis I               0.004494   \n",
       "L-valine degradation I                                  0.000008   \n",
       "L-valine biosynthesis                                   0.008715   \n",
       "\n",
       "                                                    Overall_Mean  \\\n",
       "description                                                        \n",
       "N10-formyl-tetrahydrofolate biosynthesis                0.006849   \n",
       "4-hydroxyphenylacetate degradation                      0.000053   \n",
       "aerobactin biosynthesis                                 0.000034   \n",
       "superpathway of chorismate metabolism                   0.000312   \n",
       "homolactic fermentation                                 0.006238   \n",
       "...                                                          ...   \n",
       "L-tyrosine degradation I                                0.000047   \n",
       "superpathway of ubiquinol-8 biosynthesis (proka...      0.000332   \n",
       "UDP-N-acetyl-D-glucosamine biosynthesis I               0.004489   \n",
       "L-valine degradation I                                  0.000007   \n",
       "L-valine biosynthesis                                   0.008712   \n",
       "\n",
       "                                                    Fold Change(ASD/Control)  \\\n",
       "description                                                                    \n",
       "N10-formyl-tetrahydrofolate biosynthesis                            0.997119   \n",
       "4-hydroxyphenylacetate degradation                                  1.005981   \n",
       "aerobactin biosynthesis                                             0.704290   \n",
       "superpathway of chorismate metabolism                               1.100838   \n",
       "homolactic fermentation                                             1.009080   \n",
       "...                                                                      ...   \n",
       "L-tyrosine degradation I                                            0.798068   \n",
       "superpathway of ubiquinol-8 biosynthesis (proka...                  1.083158   \n",
       "UDP-N-acetyl-D-glucosamine biosynthesis I                           0.997802   \n",
       "L-valine degradation I                                              0.836125   \n",
       "L-valine biosynthesis                                               0.999338   \n",
       "\n",
       "                                                    Log2(Fold Change)  \\\n",
       "description                                                             \n",
       "N10-formyl-tetrahydrofolate biosynthesis                    -0.004162   \n",
       "4-hydroxyphenylacetate degradation                           0.008603   \n",
       "aerobactin biosynthesis                                     -0.505759   \n",
       "superpathway of chorismate metabolism                        0.138603   \n",
       "homolactic fermentation                                      0.013040   \n",
       "...                                                               ...   \n",
       "L-tyrosine degradation I                                    -0.325417   \n",
       "superpathway of ubiquinol-8 biosynthesis (proka...           0.115244   \n",
       "UDP-N-acetyl-D-glucosamine biosynthesis I                   -0.003174   \n",
       "L-valine degradation I                                      -0.258209   \n",
       "L-valine biosynthesis                                       -0.000956   \n",
       "\n",
       "                                                    -Log(P-value)  \\\n",
       "description                                                         \n",
       "N10-formyl-tetrahydrofolate biosynthesis                 0.294734   \n",
       "4-hydroxyphenylacetate degradation                       0.008385   \n",
       "aerobactin biosynthesis                                  0.551220   \n",
       "superpathway of chorismate metabolism                    0.520625   \n",
       "homolactic fermentation                                  0.537256   \n",
       "...                                                           ...   \n",
       "L-tyrosine degradation I                                 0.245294   \n",
       "superpathway of ubiquinol-8 biosynthesis (proka...       0.384946   \n",
       "UDP-N-acetyl-D-glucosamine biosynthesis I                0.048808   \n",
       "L-valine degradation I                                   0.416551   \n",
       "L-valine biosynthesis                                    0.046173   \n",
       "\n",
       "                                                    ASD/Control pi score  \\\n",
       "description                                                                \n",
       "N10-formyl-tetrahydrofolate biosynthesis                       -0.001227   \n",
       "4-hydroxyphenylacetate degradation                              0.000072   \n",
       "aerobactin biosynthesis                                        -0.278785   \n",
       "superpathway of chorismate metabolism                           0.072160   \n",
       "homolactic fermentation                                         0.007006   \n",
       "...                                                                  ...   \n",
       "L-tyrosine degradation I                                       -0.079823   \n",
       "superpathway of ubiquinol-8 biosynthesis (proka...              0.044363   \n",
       "UDP-N-acetyl-D-glucosamine biosynthesis I                      -0.000155   \n",
       "L-valine degradation I                                         -0.107557   \n",
       "L-valine biosynthesis                                          -0.000044   \n",
       "\n",
       "                                                    Relevance_Score  \n",
       "description                                                          \n",
       "N10-formyl-tetrahydrofolate biosynthesis                   0.197019  \n",
       "4-hydroxyphenylacetate degradation                         0.118774  \n",
       "aerobactin biosynthesis                                    0.199256  \n",
       "superpathway of chorismate metabolism                      0.215165  \n",
       "homolactic fermentation                                    0.229385  \n",
       "...                                                             ...  \n",
       "L-tyrosine degradation I                                   0.184451  \n",
       "superpathway of ubiquinol-8 biosynthesis (proka...         0.206950  \n",
       "UDP-N-acetyl-D-glucosamine biosynthesis I                  0.162397  \n",
       "L-valine degradation I                                     0.163682  \n",
       "L-valine biosynthesis                                      0.155883  \n",
       "\n",
       "[420 rows x 1778 columns]"
      ]
     },
     "execution_count": 303,
     "metadata": {},
     "output_type": "execute_result"
    }
   ],
   "source": [
    "df = pd.read_csv('./Pathway_piscores_with_descrip.csv',sep=\",\",index_col=0)\n",
    "df"
   ]
  },
  {
   "cell_type": "code",
   "execution_count": 148,
   "metadata": {},
   "outputs": [
    {
     "name": "stdout",
     "output_type": "stream",
     "text": [
      "Fold Change Column Name = 'Fold Change(ASD/Control)'\n"
     ]
    },
    {
     "name": "stderr",
     "output_type": "stream",
     "text": [
      "/Users/arieschavira/opt/anaconda3/envs/qiime2-2020.8/lib/python3.6/site-packages/pandas/core/series.py:856: RuntimeWarning: divide by zero encountered in log2\n",
      "  result = getattr(ufunc, method)(*inputs, **kwargs)\n"
     ]
    }
   ],
   "source": [
    "df = pd.read_csv('./picrust2_out_pipeline/pathways_out/path_abun_unstrat_descrip.tsv',sep=\"\\t\",index_col=0)\n",
    "df.reset_index(inplace=True)\n",
    "del df['pathway']\n",
    "df = df.set_index(['description'])\n",
    "\n",
    "for j in df.columns:\n",
    "    df[j]=df[j]/df[j].sum()\n",
    "\n",
    "ASD_ids = list(set(ASD_ids)&set(df.columns))\n",
    "Control_ids = list(set(Control_ids)&set(df.columns))\n",
    "ASD = df[ASD_ids]\n",
    "Control = df[Control_ids]\n",
    "\n",
    "TwoCategoryMaster(dfmain=df,dfsub1=ASD,\n",
    "                  dfsub2=Control,sub1name='ASD',sub2name='Control')\n",
    "#Save csvs\n",
    "df.to_csv('./Pathway_piscores_with_descrip.csv')"
   ]
  },
  {
   "cell_type": "markdown",
   "metadata": {},
   "source": [
    "### Picrust data comparisons for V3V4 vs V4 Regions"
   ]
  },
  {
   "cell_type": "code",
   "execution_count": 12,
   "metadata": {},
   "outputs": [],
   "source": [
    "v4_ids = list(meta[meta['Variable_Region']=='V4'].index)\n",
    "v3v4_ids = list(meta[meta['Variable_Region']=='V3V4'].index)\n",
    "USA_ids = list(meta[meta['Country']=='USA'].index)\n",
    "China_ids = list(meta[meta['Country']=='China'].index)"
   ]
  },
  {
   "cell_type": "code",
   "execution_count": 11,
   "metadata": {},
   "outputs": [],
   "source": [
    "USA = meta[meta['Country']=='USA']\n",
    "China = meta[meta['Country']=='China']"
   ]
  },
  {
   "cell_type": "code",
   "execution_count": 282,
   "metadata": {},
   "outputs": [],
   "source": [
    "v4 = meta[meta['Variable_Region']=='V4']\n",
    "v3v4 = meta[meta['Variable_Region']=='V3V4']"
   ]
  },
  {
   "cell_type": "code",
   "execution_count": 13,
   "metadata": {},
   "outputs": [
    {
     "name": "stdout",
     "output_type": "stream",
     "text": [
      "Success, no error!\n",
      "Fold Change Column Name = 'Fold Change(ASD/Control)'\n"
     ]
    },
    {
     "name": "stderr",
     "output_type": "stream",
     "text": [
      "/Users/arieschavira/opt/anaconda3/envs/qiime2-2020.8/lib/python3.6/site-packages/pandas/core/series.py:856: RuntimeWarning: divide by zero encountered in log2\n",
      "  result = getattr(ufunc, method)(*inputs, **kwargs)\n"
     ]
    }
   ],
   "source": [
    "df = pd.read_csv('./picrust2_out_pipeline/pathways_out/path_abun_unstrat_descrip.tsv',sep=\"\\t\",index_col=0)\n",
    "df.reset_index(inplace=True)\n",
    "del df['pathway']\n",
    "df = df.set_index(['description'])\n",
    "\n",
    "df = df.T\n",
    "df = df[df.index.isin(v4_ids)]\n",
    "df = df.T\n",
    "\n",
    "try:  \n",
    "    for j in df.columns:\n",
    "        df[j]=df[j]/df[j].sum()\n",
    "except ZeroDivisionError:  \n",
    "    print (\"Zero Division Exception Raised.\" )\n",
    "else:  \n",
    "    print (\"Success, no error!\")\n",
    "    \n",
    "ASD_ids = list(v4[v4['Status']=='ASD'].index)\n",
    "Control_ids = list(v4[v4['Status']=='Control'].index)\n",
    "ASD_ids = list(set(ASD_ids)&set(df.columns))\n",
    "Control_ids = list(set(Control_ids)&set(df.columns))\n",
    "ASD = df[ASD_ids]\n",
    "Control = df[Control_ids]\n",
    "\n",
    "TwoCategoryMaster(dfmain=df,dfsub1=ASD,\n",
    "                  dfsub2=Control,sub1name='ASD',sub2name='Control')\n",
    "#Save csvs\n",
    "df.to_csv('./Pathway_piscores_with_descrip_v4.csv')"
   ]
  },
  {
   "cell_type": "code",
   "execution_count": 293,
   "metadata": {},
   "outputs": [
    {
     "name": "stdout",
     "output_type": "stream",
     "text": [
      "Fold Change Column Name = 'Fold Change(ASD/Control)'\n"
     ]
    }
   ],
   "source": [
    "df = pd.read_csv('./picrust2_out_pipeline/pathways_out/path_abun_unstrat_descrip.tsv',sep=\"\\t\",index_col=0)\n",
    "df.reset_index(inplace=True)\n",
    "del df['pathway']\n",
    "df = df.set_index(['description'])\n",
    "\n",
    "df = df.T\n",
    "df = df[df.index.isin(v3v4_ids)]\n",
    "df = df.T\n",
    "\n",
    "for j in df.columns:\n",
    "    df[j]=df[j]/df[j].sum()\n",
    "    \n",
    "ASD_ids = list(v3v4[v3v4['Status']=='ASD'].index)\n",
    "Control_ids = list(v3v4[v3v4['Status']=='Control'].index)\n",
    "ASD_ids = list(set(ASD_ids)&set(df.columns))\n",
    "Control_ids = list(set(Control_ids)&set(df.columns))\n",
    "ASD = df[ASD_ids]\n",
    "Control = df[Control_ids]\n",
    "\n",
    "\n",
    "TwoCategoryMaster(dfmain=df,dfsub1=ASD,\n",
    "                  dfsub2=Control,sub1name='ASD',sub2name='Control')\n",
    "#Save csvs\n",
    "df.to_csv('./Pathway_piscores_with_descrip_v3v4.csv')"
   ]
  },
  {
   "cell_type": "markdown",
   "metadata": {},
   "source": [
    "### Picrust data comparisons for China vs USA"
   ]
  },
  {
   "cell_type": "code",
   "execution_count": 16,
   "metadata": {},
   "outputs": [
    {
     "name": "stdout",
     "output_type": "stream",
     "text": [
      "Success, no error!\n",
      "Fold Change Column Name = 'Fold Change(ASD/Control)'\n"
     ]
    }
   ],
   "source": [
    "# China Analysis\n",
    "df = pd.read_csv('./picrust2_out_pipeline/pathways_out/path_abun_unstrat_descrip.tsv',sep=\"\\t\",index_col=0)\n",
    "df.reset_index(inplace=True)\n",
    "del df['pathway']\n",
    "df = df.set_index(['description'])\n",
    "\n",
    "df = df.T \n",
    "df = df[df.index.isin(China_ids)]\n",
    "df = df.T\n",
    "\n",
    "try:  \n",
    "    for j in df.columns:\n",
    "        df[j]=df[j]/df[j].sum()\n",
    "except ZeroDivisionError:  \n",
    "    print (\"Zero Division Exception Raised.\" )\n",
    "else:  \n",
    "    print (\"Success, no error!\")\n",
    "    \n",
    "ASD_ids = list(China[China['Status']=='ASD'].index)\n",
    "Control_ids = list(China[China['Status']=='Control'].index)\n",
    "ASD_ids = list(set(ASD_ids)&set(df.columns))\n",
    "Control_ids = list(set(Control_ids)&set(df.columns))\n",
    "ASD = df[ASD_ids]\n",
    "Control = df[Control_ids]\n",
    "\n",
    "TwoCategoryMaster(dfmain=df,dfsub1=ASD,\n",
    "                  dfsub2=Control,sub1name='ASD',sub2name='Control')\n",
    "#Save csvs\n",
    "df.to_csv('./Pathway_piscores_with_descrip_China.csv')"
   ]
  },
  {
   "cell_type": "code",
   "execution_count": 17,
   "metadata": {},
   "outputs": [
    {
     "name": "stdout",
     "output_type": "stream",
     "text": [
      "Success, no error!\n",
      "Fold Change Column Name = 'Fold Change(ASD/Control)'\n"
     ]
    }
   ],
   "source": [
    "# USA Analysis\n",
    "df = pd.read_csv('./picrust2_out_pipeline/pathways_out/path_abun_unstrat_descrip.tsv',sep=\"\\t\",index_col=0)\n",
    "df.reset_index(inplace=True)\n",
    "del df['pathway']\n",
    "df = df.set_index(['description'])\n",
    "\n",
    "df = df.T \n",
    "df = df[df.index.isin(USA_ids)]\n",
    "df = df.T\n",
    "\n",
    "try:  \n",
    "    for j in df.columns:\n",
    "        df[j]=df[j]/df[j].sum()\n",
    "except ZeroDivisionError:  \n",
    "    print (\"Zero Division Exception Raised.\" )\n",
    "else:  \n",
    "    print (\"Success, no error!\")\n",
    "    \n",
    "ASD_ids = list(USA[USA['Status']=='ASD'].index)\n",
    "Control_ids = list(USA[USA['Status']=='Control'].index)\n",
    "ASD_ids = list(set(ASD_ids)&set(df.columns))\n",
    "Control_ids = list(set(Control_ids)&set(df.columns))\n",
    "ASD = df[ASD_ids]\n",
    "Control = df[Control_ids]\n",
    "\n",
    "TwoCategoryMaster(dfmain=df,dfsub1=ASD,\n",
    "                  dfsub2=Control,sub1name='ASD',sub2name='Control')\n",
    "#Save csvs\n",
    "df.to_csv('./Pathway_piscores_with_descrip_USA.csv')"
   ]
  }
 ],
 "metadata": {
  "kernelspec": {
   "display_name": "Python 3",
   "language": "python",
   "name": "python3"
  },
  "language_info": {
   "codemirror_mode": {
    "name": "ipython",
    "version": 3
   },
   "file_extension": ".py",
   "mimetype": "text/x-python",
   "name": "python",
   "nbconvert_exporter": "python",
   "pygments_lexer": "ipython3",
   "version": "3.6.11"
  }
 },
 "nbformat": 4,
 "nbformat_minor": 4
}
