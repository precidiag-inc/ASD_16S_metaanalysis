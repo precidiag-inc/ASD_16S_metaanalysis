{
 "cells": [
  {
   "cell_type": "markdown",
   "id": "305d3bb5-4af0-4acc-8958-91d923333243",
   "metadata": {},
   "source": [
    "# Optimal Age Range\n",
    "\n",
    "Our preliminary assumption is that there is sufficient information in the microbiome to predict Autism status. But are prediction accuracies uniformly spread across ages, or are there subsets of ages in which the samples are more separable? To test this, we first perform a sweep of different age ranges: subsetting data and training different models."
   ]
  },
  {
   "cell_type": "code",
   "execution_count": 22,
   "id": "81cc2463-7c38-45bf-8d9f-5efc7e74279d",
   "metadata": {},
   "outputs": [],
   "source": [
    "%matplotlib inline\n",
    "import seaborn as sns\n",
    "import matplotlib.pyplot as plt\n",
    "import pandas as pd\n",
    "import os, sys\n",
    "import numpy as np\n",
    "import pickle\n",
    "from sklearn.preprocessing import LabelEncoder\n",
    "from sklearn.ensemble import GradientBoostingClassifier\n",
    "from sklearn.model_selection import train_test_split\n",
    "from sklearn.metrics import roc_auc_score\n",
    "from sklearn.model_selection import RepeatedStratifiedKFold\n",
    "\n",
    "sys.path.insert(0, '..')\n",
    "\n",
    "from utils import UnityScaler\n"
   ]
  },
  {
   "cell_type": "code",
   "execution_count": 24,
   "id": "b7cedb09-a236-4300-be30-f26f2141a8ed",
   "metadata": {},
   "outputs": [
    {
     "name": "stderr",
     "output_type": "stream",
     "text": [
      "/home/erxw/PycharmProjects/ASD_16S_metaanalysis/ASD_16S_metaanalysis/Figure 5/../utils/_unity.py:15: FutureWarning: Support for multi-dimensional indexing (e.g. `obj[:, None]`) is deprecated and will be removed in a future version.  Convert to a numpy array before indexing instead.\n",
      "  df /= np.sum(df, axis = self.axis)[:, None]\n"
     ]
    }
   ],
   "source": [
    "reads_threshold = 6000\n",
    "\n",
    "data_directory = '../data/'\n",
    "data_filename = 'metaanalysis_data.pickle'\n",
    "metadata_filename = 'metaanalysis_metadata.pickle' \n",
    "\n",
    "data = pickle.load(open(os.path.join(data_directory, data_filename), 'rb'))\n",
    "metadata = pickle.load(open(os.path.join(data_directory, metadata_filename), 'rb'))\n",
    "\n",
    "# remove samples with fewer than reads_threshold \n",
    "data = data.loc[data.sum(axis = 1) >= reads_threshold]\n",
    "metadata = metadata.loc[data.index]\n",
    "\n",
    "# remove samples with valid ages\n",
    "metadata = metadata.loc[~metadata['Age'].isna()]\n",
    "data = data.loc[metadata.index]\n",
    "\n",
    "# label encoder\n",
    "label_encoder = LabelEncoder()\n",
    "metadata['Status'] = label_encoder.fit_transform(metadata['Status'])\n",
    "\n",
    "# normalize each sample\n",
    "data = UnityScaler().fit_transform(data)"
   ]
  },
  {
   "cell_type": "code",
   "execution_count": 54,
   "id": "7849f90c-2390-400a-a1b4-b0073d779080",
   "metadata": {},
   "outputs": [],
   "source": [
    "start_range = [1, 16]\n",
    "end_range = [3, 18]\n",
    "model = GradientBoostingClassifier()\n",
    "results = {(start,end): [] for start in range(start_range[0], start_range[1]) for end in range(end_range[0], end_range[1])}\n",
    "\n",
    "kf = RepeatedStratifiedKFold(n_splits = 5, n_repeats = 1, random_state = 1)\n"
   ]
  },
  {
   "cell_type": "code",
   "execution_count": null,
   "id": "cdcd1d79-8a62-43f5-a14a-cc9ab88e0250",
   "metadata": {},
   "outputs": [
    {
     "name": "stdout",
     "output_type": "stream",
     "text": [
      "1 3\n",
      "17 Only one class present in y_true. ROC AUC score is not defined in that case.\n",
      "1 4\n",
      "1 5\n",
      "1 6\n",
      "1 7\n",
      "1 8\n",
      "1 9\n",
      "1 10\n",
      "1 11\n",
      "1 12\n",
      "1 13\n",
      "1 14\n",
      "1 15\n",
      "1 16\n",
      "1 17\n",
      "2 3\n",
      "2 4\n",
      "2 5\n",
      "2 6\n",
      "2 7\n",
      "2 8\n",
      "2 9\n",
      "2 10\n",
      "2 11\n",
      "2 12\n",
      "2 13\n",
      "2 14\n",
      "2 15\n",
      "2 16\n",
      "2 17\n"
     ]
    }
   ],
   "source": [
    "for start in range(start_range[0], start_range[1]):\n",
    "    for end in range(end_range[0], end_range[1]):\n",
    "        print(start, end)\n",
    "        if start >= end-1: \n",
    "            continue\n",
    "        inclusion = (metadata['Age'] >= start) & (metadata['Age'] < end)\n",
    "        iteration = 0\n",
    "        while iteration < iterations:\n",
    "            try:\n",
    "                for train_index, test_index in kf.split(data.loc[inclusion], metadata.loc[inclusion, 'Status'].values):\n",
    "                    xtrain, xtest = data.iloc[train_index], data.iloc[test_index]\n",
    "                    ytrain, ytest = metadata.iloc[train_index]['Status'], metadata.iloc[test_index]['Status'].values, \n",
    "                    model.fit(xtrain, ytrain)\n",
    "                    results[start,end].append(roc_auc_score(model.predict(xtest), ytest))\n",
    "            except Exception as e:\n",
    "                print(iteration, e)\n",
    "                iteration -= 1\n",
    "                pass\n",
    "            iteration += 1"
   ]
  },
  {
   "cell_type": "code",
   "execution_count": null,
   "id": "bfbc131b-348a-41c4-88f6-fbf9965d21e6",
   "metadata": {},
   "outputs": [],
   "source": [
    "pickle.dump(results, open('optimal_ages.pickle', 'wb'))"
   ]
  },
  {
   "cell_type": "code",
   "execution_count": null,
   "id": "d470f068-d652-48a2-8cfe-efb6f0bc3a3f",
   "metadata": {},
   "outputs": [],
   "source": [
    "results = pickle.load(open('optimal_ages.pickle', 'rb'))"
   ]
  },
  {
   "cell_type": "code",
   "execution_count": null,
   "id": "5ef44495-e708-4634-93ed-4c007687543b",
   "metadata": {},
   "outputs": [],
   "source": [
    "def get_grid(results):\n",
    "    grid = np.zeros((start_range[1] - start_range[0], end_range[1] - end_range[0], iterations))\n",
    "    for (start, end), value in results.items():\n",
    "        temp = value.copy()\n",
    "        try:\n",
    "            grid[start - start_range[0], end - end_range[0]] = temp\n",
    "        except:\n",
    "            continue\n",
    "    grid = np.nanmean(grid,axis = 2)[:-1, 1:]\n",
    "    \n",
    "    for i in range(1, 14):\n",
    "        grid[i:,i-1] = np.nan\n",
    "    return grid\n",
    "\n",
    "def display_grid(grid, title, cmap = 'jet'):\n",
    "\n",
    "    plt.imshow(grid, cmap = 'jet', )\n",
    "    plt.ylabel('Lower bound (years)')\n",
    "    plt.xlabel('Upper bound (years)')\n",
    "    plt.yticks(np.arange(grid.shape[0]), np.arange(grid.shape[0]) + start_range[0])\n",
    "    plt.xticks(np.arange(grid.shape[1]), np.arange(grid.shape[1]) + end_range[0])\n",
    "    plt.colorbar()\n",
    "    plt.savefig(f'{title}.pdf', dpi = 1200)"
   ]
  },
  {
   "cell_type": "code",
   "execution_count": null,
   "id": "3a37a3b2-f917-4ff7-8d44-44a47702fe1a",
   "metadata": {},
   "outputs": [],
   "source": [
    "display_grid(get_grid(results),  title = 'OptimalAge')"
   ]
  },
  {
   "cell_type": "code",
   "execution_count": null,
   "id": "5f29688b-d061-4fcb-8a59-308e6b79313f",
   "metadata": {},
   "outputs": [],
   "source": [
    "# get sample size grid\n",
    "sample_size = {}\n",
    "for start in range(start_range[0], start_range[1]):\n",
    "    for end in range(end_range[0], end_range[1]):\n",
    "        if start >= end: \n",
    "            continue\n",
    "        inclusion = (metaanalysis.metadata['Age'] >= start) & (metaanalysis.metadata['Age'] < end)\n",
    "        sample_size[start,end] = [inclusion.sum()]\n",
    "display_grid(get_grid(sample_size),  title = 'SampleSize')"
   ]
  },
  {
   "cell_type": "code",
   "execution_count": null,
   "id": "a9474e4d-eb96-4d9c-b766-6e81ad94569d",
   "metadata": {},
   "outputs": [],
   "source": [
    "df = pd.DataFrame([get_grid(sample_size).flatten(), get_grid(results).flatten()], index = ['Sample Size', 'AUC']).T\n",
    "df = df.dropna()\n",
    "\n",
    "sns.lmplot(data = df, x = 'Sample Size', y = 'AUC', order = 2)\n",
    "plt.savefig('Relationship between sample size and AUC.pdf', dpi = 1200)"
   ]
  }
 ],
 "metadata": {
  "kernelspec": {
   "display_name": "Python 3 (ipykernel)",
   "language": "python",
   "name": "python3"
  },
  "language_info": {
   "codemirror_mode": {
    "name": "ipython",
    "version": 3
   },
   "file_extension": ".py",
   "mimetype": "text/x-python",
   "name": "python",
   "nbconvert_exporter": "python",
   "pygments_lexer": "ipython3",
   "version": "3.8.10"
  }
 },
 "nbformat": 4,
 "nbformat_minor": 5
}
