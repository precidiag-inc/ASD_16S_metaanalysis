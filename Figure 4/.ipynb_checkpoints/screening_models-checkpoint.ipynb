{
 "cells": [
  {
   "cell_type": "markdown",
   "id": "6b2a549b-fed5-4e7e-836f-60eef21af3e3",
   "metadata": {},
   "source": [
    "# Evaluating machine learning models \n",
    "\n",
    "This \n",
    "\n"
   ]
  },
  {
   "cell_type": "code",
   "execution_count": 1,
   "id": "f4b73eaf-0c27-4516-9e42-6c8a548a0751",
   "metadata": {},
   "outputs": [],
   "source": [
    "%matplotlib inline\n",
    "import matplotlib.pyplot as plt\n",
    "import sys, os\n",
    "import numpy as np\n",
    "import pandas as pd\n",
    "import pickle\n",
    "\n",
    "sys.path.insert(0, '..')\n",
    "\n",
    "import warnings \n",
    "warnings.filterwarnings('ignore')"
   ]
  },
  {
   "cell_type": "markdown",
   "id": "6fca26e3-0be9-4e5f-b369-fb50fcbf2f4d",
   "metadata": {},
   "source": [
    "## Step 1. Preprocessing by removing samples with fewer than 6000 reads and convert metadata to one hot"
   ]
  },
  {
   "cell_type": "code",
   "execution_count": 2,
   "id": "a398a835-b2d4-4851-8b82-fe14ee740795",
   "metadata": {},
   "outputs": [],
   "source": [
    "reads_threshold = 6000\n",
    "\n",
    "data_directory = '../data/'\n",
    "data_filename = 'metaanalysis_data.pickle'\n",
    "metadata_filename = 'metaanalysis_metadata.pickle' \n",
    "\n",
    "data = pickle.load(open(os.path.join(data_directory, data_filename), 'rb'))\n",
    "metadata = pickle.load(open(os.path.join(data_directory, metadata_filename), 'rb'))\n",
    "\n",
    "data = data.loc[data.sum(axis = 1) >= reads_threshold]\n",
    "metadata = metadata.loc[data.index]"
   ]
  },
  {
   "cell_type": "code",
   "execution_count": 3,
   "id": "3c030e82-89af-41a1-837a-f7de47f1e472",
   "metadata": {},
   "outputs": [],
   "source": [
    "# label encoder\n",
    "\n",
    "from sklearn.preprocessing import LabelEncoder\n",
    "\n",
    "label_encoder = LabelEncoder()\n",
    "metadata['Status'] = label_encoder.fit_transform(metadata['Status'])"
   ]
  },
  {
   "cell_type": "markdown",
   "id": "63a2f8fb-a7cb-4d58-b261-37cf9923bf96",
   "metadata": {},
   "source": [
    "## Step 2. Define models, pipelines and metrics"
   ]
  },
  {
   "cell_type": "code",
   "execution_count": 4,
   "id": "2319879c-9f3c-41ef-855f-e2fc414f30df",
   "metadata": {},
   "outputs": [],
   "source": [
    "# screen through models and different levels of collapse\n",
    "# unity scaler and collase taxa transformer\n",
    "\n",
    "from sklearn.neural_network import MLPClassifier\n",
    "from sklearn.neighbors import KNeighborsClassifier\n",
    "from sklearn.svm import SVC\n",
    "from sklearn.gaussian_process import GaussianProcessClassifier\n",
    "from sklearn.gaussian_process.kernels import RBF\n",
    "from sklearn.tree import DecisionTreeClassifier\n",
    "from sklearn.ensemble import RandomForestClassifier, AdaBoostClassifier\n",
    "from sklearn.naive_bayes import GaussianNB\n",
    "from sklearn.discriminant_analysis import QuadraticDiscriminantAnalysis\n",
    "from sklearn.ensemble import GradientBoostingClassifier\n",
    "\n",
    "from sklearn.metrics import roc_auc_score, f1_score, accuracy_score\n",
    "\n",
    "from sklearn.model_selection import train_test_split\n",
    "from sklearn.model_selection import RepeatedStratifiedKFold\n",
    "\n",
    "classifiers = {\n",
    "    'KNN':  KNeighborsClassifier(3),\n",
    "    'SVC Kernel': SVC(kernel=\"linear\", C=0.025),\n",
    "    'SVC Gamma': SVC(gamma=2, C=1),\n",
    "    'Gaussian Process': GaussianProcessClassifier(1.0 * RBF(1.0)),\n",
    "    'Decision Tree': DecisionTreeClassifier(max_depth=5),\n",
    "    'Random Forest': RandomForestClassifier(max_depth=5, n_estimators=10, max_features=1),\n",
    "    'Neural Networks': MLPClassifier(alpha=1, max_iter=1000),\n",
    "    'AdaBoost': AdaBoostClassifier(),\n",
    "    'Gaussian NB': GaussianNB(),\n",
    "    'Quadratic Discriminant': QuadraticDiscriminantAnalysis(),\n",
    "    'XGB': GradientBoostingClassifier(n_estimators = 100, learning_rate = 1, max_depth = 2, random_state = 0),\n",
    "}\n",
    "\n",
    "metrics = {'AUC': roc_auc_score,\n",
    "           'F1': f1_score,\n",
    "           'Accuracy': accuracy_score\n",
    "          }\n",
    "\n",
    "kf = RepeatedStratifiedKFold(n_splits = 5, n_repeats = 10, random_state = 1)\n",
    "\n",
    "taxa = ['kingdom', 'phylum', 'class', 'order', 'family', 'genus', 'species', 'none']"
   ]
  },
  {
   "cell_type": "markdown",
   "id": "2656f86a-3129-42cf-8113-48a1fc94ae06",
   "metadata": {},
   "source": [
    "## Step 3. Iterate through pipelines and save resulting dataframe"
   ]
  },
  {
   "cell_type": "code",
   "execution_count": null,
   "id": "9b26a37d-54d4-4344-b200-8b132e573ae9",
   "metadata": {},
   "outputs": [
    {
     "name": "stdout",
     "output_type": "stream",
     "text": [
      "AmericanGut\n"
     ]
    }
   ],
   "source": [
    "from utils import CollapseTaxaTransformer, UnityScaler\n",
    "from sklearn.pipeline import make_pipeline\n",
    "\n",
    "# collapse at different levels\n",
    "# train test split kfolds -> iterations\n",
    "results = {}\n",
    "\n",
    "def open_pipeline(study_name, x, y):\n",
    "    results = {}\n",
    "    for level in taxa :\n",
    "\n",
    "        pipeline = make_pipeline(CollapseTaxaTransformer(level = level),\n",
    "                                UnityScaler(axis = 1))\n",
    "        df = pipeline.fit_transform(x)\n",
    "        iteration = 0\n",
    "        for train_index, test_index in kf.split(df, y):\n",
    "            xtrain, xtest = df.iloc[train_index], df.iloc[test_index]\n",
    "            ytrain, ytest = y.iloc[train_index], y.iloc[test_index]\n",
    "            for model_name, model in classifiers.items():\n",
    "                model.fit(xtrain, ytrain)\n",
    "                predictions = model.predict(xtest)\n",
    "                for metric_name, metric in metrics.items():\n",
    "                    results[study_name, level, model_name, metric_name, iteration] = metric(ytest, predictions)\n",
    "            iteration += 1\n",
    "    return results\n",
    "\n",
    "for study_name, x in data.groupby('Filename'):\n",
    "    print(study_name)\n",
    "    results.update(open_pipeline(study_name, x, metadata.loc[study_name, 'Status']))\n"
   ]
  },
  {
   "cell_type": "code",
   "execution_count": null,
   "id": "5572e873-9c93-4d34-8b19-43f549bdc63a",
   "metadata": {},
   "outputs": [],
   "source": [
    "# aggregate data\n",
    "results.update(open_pipeline('Aggregate', data, metadata['Status']))"
   ]
  },
  {
   "cell_type": "code",
   "execution_count": null,
   "id": "1691debe-258c-4066-8d7c-c644488e32a5",
   "metadata": {},
   "outputs": [],
   "source": [
    "df = pd.melt(pd.DataFrame(results, index = [0]))\n",
    "df.columns = ['study','level', 'model', 'metric', 'iteration', 'value']"
   ]
  },
  {
   "cell_type": "code",
   "execution_count": null,
   "id": "cfcd4bd4-5a5f-409d-9a5b-d34d78f57d44",
   "metadata": {},
   "outputs": [],
   "source": [
    "# save\n",
    "df.to_csv('ML Screen Results.csv', sep = '\\t', index = False)"
   ]
  },
  {
   "cell_type": "code",
   "execution_count": null,
   "id": "da3c865c-0042-457a-b845-bd118b9206a8",
   "metadata": {},
   "outputs": [],
   "source": [
    "# load\n",
    "df = pd.read_csv('ML Screen Results.csv', delimiter ='\\t')\n",
    "df"
   ]
  },
  {
   "cell_type": "markdown",
   "id": "cd1fda4d-1657-4224-9b14-ad02cfb97778",
   "metadata": {},
   "source": [
    "## Step 4. Aggregate results for summary statistics"
   ]
  },
  {
   "cell_type": "code",
   "execution_count": null,
   "id": "d3a71a04-f5ba-4e16-992f-b04ba55a4e97",
   "metadata": {},
   "outputs": [],
   "source": []
  },
  {
   "cell_type": "code",
   "execution_count": null,
   "id": "f395a94a-8148-419b-92f0-8bfd5b7dff2d",
   "metadata": {},
   "outputs": [],
   "source": []
  }
 ],
 "metadata": {
  "kernelspec": {
   "display_name": "Python 3 (ipykernel)",
   "language": "python",
   "name": "python3"
  },
  "language_info": {
   "codemirror_mode": {
    "name": "ipython",
    "version": 3
   },
   "file_extension": ".py",
   "mimetype": "text/x-python",
   "name": "python",
   "nbconvert_exporter": "python",
   "pygments_lexer": "ipython3",
   "version": "3.8.10"
  }
 },
 "nbformat": 4,
 "nbformat_minor": 5
}
